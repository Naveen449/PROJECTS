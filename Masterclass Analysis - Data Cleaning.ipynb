{
 "cells": [
  {
   "cell_type": "code",
   "execution_count": 1,
   "metadata": {},
   "outputs": [],
   "source": [
    "import pandas as pd\n",
    "import datetime"
   ]
  },
  {
   "cell_type": "markdown",
   "metadata": {},
   "source": [
    "## Sheet 1"
   ]
  },
  {
   "cell_type": "code",
   "execution_count": 2,
   "metadata": {},
   "outputs": [
    {
     "data": {
      "text/html": [
       "<div>\n",
       "<style scoped>\n",
       "    .dataframe tbody tr th:only-of-type {\n",
       "        vertical-align: middle;\n",
       "    }\n",
       "\n",
       "    .dataframe tbody tr th {\n",
       "        vertical-align: top;\n",
       "    }\n",
       "\n",
       "    .dataframe thead th {\n",
       "        text-align: right;\n",
       "    }\n",
       "</style>\n",
       "<table border=\"1\" class=\"dataframe\">\n",
       "  <thead>\n",
       "    <tr style=\"text-align: right;\">\n",
       "      <th></th>\n",
       "      <th>Timestamp</th>\n",
       "      <th>First Name</th>\n",
       "      <th>Last Name</th>\n",
       "      <th>City</th>\n",
       "      <th>Unnamed: 4</th>\n",
       "    </tr>\n",
       "  </thead>\n",
       "  <tbody>\n",
       "    <tr>\n",
       "      <th>0</th>\n",
       "      <td>2020-09-28 00:10:58.066</td>\n",
       "      <td>Pranshu</td>\n",
       "      <td>Bhatnagar</td>\n",
       "      <td>Moradabad</td>\n",
       "      <td>1.0</td>\n",
       "    </tr>\n",
       "    <tr>\n",
       "      <th>1</th>\n",
       "      <td>2020-09-28 07:17:13.080</td>\n",
       "      <td>Kumari</td>\n",
       "      <td>Garima</td>\n",
       "      <td>Delhi</td>\n",
       "      <td>35.0</td>\n",
       "    </tr>\n",
       "    <tr>\n",
       "      <th>2</th>\n",
       "      <td>2020-09-28 09:12:18.512</td>\n",
       "      <td>Damarakeswar</td>\n",
       "      <td>Guddanti</td>\n",
       "      <td>ELURU</td>\n",
       "      <td>1.0</td>\n",
       "    </tr>\n",
       "    <tr>\n",
       "      <th>3</th>\n",
       "      <td>2020-09-28 09:41:07.900</td>\n",
       "      <td>Manish</td>\n",
       "      <td>Bharti</td>\n",
       "      <td>Bangalore</td>\n",
       "      <td>17.0</td>\n",
       "    </tr>\n",
       "    <tr>\n",
       "      <th>4</th>\n",
       "      <td>2020-09-28 10:59:00.443</td>\n",
       "      <td>Rakesh</td>\n",
       "      <td>Tripathi</td>\n",
       "      <td>Pune</td>\n",
       "      <td>52.0</td>\n",
       "    </tr>\n",
       "    <tr>\n",
       "      <th>5</th>\n",
       "      <td>2020-09-28 20:28:11.425</td>\n",
       "      <td>Ajeet</td>\n",
       "      <td>Kumar</td>\n",
       "      <td>SONEBHADRA</td>\n",
       "      <td>1.0</td>\n",
       "    </tr>\n",
       "    <tr>\n",
       "      <th>6</th>\n",
       "      <td>2020-09-29 13:41:28.957</td>\n",
       "      <td>Aditya</td>\n",
       "      <td>Singh</td>\n",
       "      <td>Pune</td>\n",
       "      <td>NaN</td>\n",
       "    </tr>\n",
       "    <tr>\n",
       "      <th>7</th>\n",
       "      <td>2020-09-30 13:43:18.853</td>\n",
       "      <td>Shruti</td>\n",
       "      <td>Nagpal</td>\n",
       "      <td>Delhi</td>\n",
       "      <td>NaN</td>\n",
       "    </tr>\n",
       "    <tr>\n",
       "      <th>8</th>\n",
       "      <td>2020-09-30 13:47:03.209</td>\n",
       "      <td>Gaurav</td>\n",
       "      <td>Jha</td>\n",
       "      <td>Bhubaneswar</td>\n",
       "      <td>3.0</td>\n",
       "    </tr>\n",
       "    <tr>\n",
       "      <th>9</th>\n",
       "      <td>2020-09-30 14:52:25.604</td>\n",
       "      <td>Sairam</td>\n",
       "      <td>Muddam</td>\n",
       "      <td>Mumbai</td>\n",
       "      <td>48.0</td>\n",
       "    </tr>\n",
       "  </tbody>\n",
       "</table>\n",
       "</div>"
      ],
      "text/plain": [
       "                Timestamp    First Name  Last Name         City  Unnamed: 4\n",
       "0 2020-09-28 00:10:58.066      Pranshu   Bhatnagar    Moradabad         1.0\n",
       "1 2020-09-28 07:17:13.080        Kumari     Garima        Delhi        35.0\n",
       "2 2020-09-28 09:12:18.512  Damarakeswar   Guddanti        ELURU         1.0\n",
       "3 2020-09-28 09:41:07.900        Manish     Bharti    Bangalore        17.0\n",
       "4 2020-09-28 10:59:00.443        Rakesh   Tripathi         Pune        52.0\n",
       "5 2020-09-28 20:28:11.425         Ajeet      Kumar   SONEBHADRA         1.0\n",
       "6 2020-09-29 13:41:28.957        Aditya      Singh         Pune         NaN\n",
       "7 2020-09-30 13:43:18.853        Shruti     Nagpal        Delhi         NaN\n",
       "8 2020-09-30 13:47:03.209        Gaurav        Jha  Bhubaneswar         3.0\n",
       "9 2020-09-30 14:52:25.604        Sairam     Muddam       Mumbai        48.0"
      ]
     },
     "execution_count": 2,
     "metadata": {},
     "output_type": "execute_result"
    }
   ],
   "source": [
    "df1=pd.read_excel(\"C:\\\\Users\\\\user\\\\Downloads\\\\4.MKR TASK 2\\\\Masterclass - The Basics Of Excel (Responses) (1).xlsx\")\n",
    "df1.head(10)"
   ]
  },
  {
   "cell_type": "code",
   "execution_count": 3,
   "metadata": {},
   "outputs": [
    {
     "data": {
      "text/plain": [
       "(657, 5)"
      ]
     },
     "execution_count": 3,
     "metadata": {},
     "output_type": "execute_result"
    }
   ],
   "source": [
    "df1.shape"
   ]
  },
  {
   "cell_type": "code",
   "execution_count": 4,
   "metadata": {},
   "outputs": [
    {
     "name": "stdout",
     "output_type": "stream",
     "text": [
      "<class 'pandas.core.frame.DataFrame'>\n",
      "RangeIndex: 657 entries, 0 to 656\n",
      "Data columns (total 5 columns):\n",
      " #   Column      Non-Null Count  Dtype         \n",
      "---  ------      --------------  -----         \n",
      " 0   Timestamp   657 non-null    datetime64[ns]\n",
      " 1   First Name  657 non-null    object        \n",
      " 2   Last Name   657 non-null    object        \n",
      " 3   City        657 non-null    object        \n",
      " 4   Unnamed: 4  110 non-null    float64       \n",
      "dtypes: datetime64[ns](1), float64(1), object(3)\n",
      "memory usage: 25.8+ KB\n"
     ]
    }
   ],
   "source": [
    "df1.info()"
   ]
  },
  {
   "cell_type": "code",
   "execution_count": 5,
   "metadata": {},
   "outputs": [],
   "source": [
    "df1.columns = [c.replace(' ', '_') for c in df1.columns]"
   ]
  },
  {
   "cell_type": "code",
   "execution_count": 6,
   "metadata": {
    "scrolled": true
   },
   "outputs": [
    {
     "name": "stdout",
     "output_type": "stream",
     "text": [
      "<class 'pandas.core.frame.DataFrame'>\n",
      "RangeIndex: 657 entries, 0 to 656\n",
      "Data columns (total 5 columns):\n",
      " #   Column      Non-Null Count  Dtype         \n",
      "---  ------      --------------  -----         \n",
      " 0   Timestamp   657 non-null    datetime64[ns]\n",
      " 1   First_Name  657 non-null    object        \n",
      " 2   Last_Name   657 non-null    object        \n",
      " 3   City        657 non-null    object        \n",
      " 4   Unnamed:_4  110 non-null    float64       \n",
      "dtypes: datetime64[ns](1), float64(1), object(3)\n",
      "memory usage: 25.8+ KB\n"
     ]
    }
   ],
   "source": [
    "df1.info()"
   ]
  },
  {
   "cell_type": "code",
   "execution_count": 7,
   "metadata": {},
   "outputs": [],
   "source": [
    "df1['Name']= df1['First_Name'] + ' ' + df1['Last_Name']"
   ]
  },
  {
   "cell_type": "code",
   "execution_count": 8,
   "metadata": {
    "scrolled": true
   },
   "outputs": [],
   "source": [
    "df1.drop(['First_Name','Last_Name','Unnamed:_4'], axis = 1, inplace=True) "
   ]
  },
  {
   "cell_type": "code",
   "execution_count": 9,
   "metadata": {},
   "outputs": [
    {
     "data": {
      "text/html": [
       "<div>\n",
       "<style scoped>\n",
       "    .dataframe tbody tr th:only-of-type {\n",
       "        vertical-align: middle;\n",
       "    }\n",
       "\n",
       "    .dataframe tbody tr th {\n",
       "        vertical-align: top;\n",
       "    }\n",
       "\n",
       "    .dataframe thead th {\n",
       "        text-align: right;\n",
       "    }\n",
       "</style>\n",
       "<table border=\"1\" class=\"dataframe\">\n",
       "  <thead>\n",
       "    <tr style=\"text-align: right;\">\n",
       "      <th></th>\n",
       "      <th>Timestamp</th>\n",
       "      <th>City</th>\n",
       "      <th>Name</th>\n",
       "      <th>Class</th>\n",
       "    </tr>\n",
       "  </thead>\n",
       "  <tbody>\n",
       "    <tr>\n",
       "      <th>0</th>\n",
       "      <td>2020-09-28 00:10:58.066</td>\n",
       "      <td>Moradabad</td>\n",
       "      <td>Pranshu  Bhatnagar</td>\n",
       "      <td>Excel</td>\n",
       "    </tr>\n",
       "    <tr>\n",
       "      <th>1</th>\n",
       "      <td>2020-09-28 07:17:13.080</td>\n",
       "      <td>Delhi</td>\n",
       "      <td>Kumari Garima</td>\n",
       "      <td>Excel</td>\n",
       "    </tr>\n",
       "    <tr>\n",
       "      <th>2</th>\n",
       "      <td>2020-09-28 09:12:18.512</td>\n",
       "      <td>ELURU</td>\n",
       "      <td>Damarakeswar  Guddanti</td>\n",
       "      <td>Excel</td>\n",
       "    </tr>\n",
       "    <tr>\n",
       "      <th>3</th>\n",
       "      <td>2020-09-28 09:41:07.900</td>\n",
       "      <td>Bangalore</td>\n",
       "      <td>Manish Bharti</td>\n",
       "      <td>Excel</td>\n",
       "    </tr>\n",
       "    <tr>\n",
       "      <th>4</th>\n",
       "      <td>2020-09-28 10:59:00.443</td>\n",
       "      <td>Pune</td>\n",
       "      <td>Rakesh Tripathi</td>\n",
       "      <td>Excel</td>\n",
       "    </tr>\n",
       "  </tbody>\n",
       "</table>\n",
       "</div>"
      ],
      "text/plain": [
       "                Timestamp       City                    Name  Class\n",
       "0 2020-09-28 00:10:58.066  Moradabad      Pranshu  Bhatnagar  Excel\n",
       "1 2020-09-28 07:17:13.080      Delhi           Kumari Garima  Excel\n",
       "2 2020-09-28 09:12:18.512      ELURU  Damarakeswar  Guddanti  Excel\n",
       "3 2020-09-28 09:41:07.900  Bangalore           Manish Bharti  Excel\n",
       "4 2020-09-28 10:59:00.443       Pune         Rakesh Tripathi  Excel"
      ]
     },
     "execution_count": 9,
     "metadata": {},
     "output_type": "execute_result"
    }
   ],
   "source": [
    "Class = ['Excel' for i in range(len(df1))]\n",
    "df1['Class'] = Class\n",
    "df1.head()"
   ]
  },
  {
   "cell_type": "markdown",
   "metadata": {},
   "source": [
    "## Sheet 2"
   ]
  },
  {
   "cell_type": "code",
   "execution_count": 10,
   "metadata": {},
   "outputs": [
    {
     "data": {
      "text/html": [
       "<div>\n",
       "<style scoped>\n",
       "    .dataframe tbody tr th:only-of-type {\n",
       "        vertical-align: middle;\n",
       "    }\n",
       "\n",
       "    .dataframe tbody tr th {\n",
       "        vertical-align: top;\n",
       "    }\n",
       "\n",
       "    .dataframe thead th {\n",
       "        text-align: right;\n",
       "    }\n",
       "</style>\n",
       "<table border=\"1\" class=\"dataframe\">\n",
       "  <thead>\n",
       "    <tr style=\"text-align: right;\">\n",
       "      <th></th>\n",
       "      <th>Timestamp</th>\n",
       "      <th>First Name</th>\n",
       "      <th>Last Name</th>\n",
       "      <th>City</th>\n",
       "      <th>Unnamed: 4</th>\n",
       "      <th>Unnamed: 5</th>\n",
       "    </tr>\n",
       "  </thead>\n",
       "  <tbody>\n",
       "    <tr>\n",
       "      <th>0</th>\n",
       "      <td>2020-08-29 11:31:02.261</td>\n",
       "      <td>Raj</td>\n",
       "      <td>Maru</td>\n",
       "      <td>Mumbai</td>\n",
       "      <td>whatsapp</td>\n",
       "      <td>whatsappRajMaru</td>\n",
       "    </tr>\n",
       "    <tr>\n",
       "      <th>1</th>\n",
       "      <td>2020-08-29 16:33:59.010</td>\n",
       "      <td>Prachi</td>\n",
       "      <td>Agarwal</td>\n",
       "      <td>Moradabad</td>\n",
       "      <td>whatsapp</td>\n",
       "      <td>whatsappPrachi Agarwal</td>\n",
       "    </tr>\n",
       "    <tr>\n",
       "      <th>2</th>\n",
       "      <td>2020-08-29 18:08:10.918</td>\n",
       "      <td>Paramananda</td>\n",
       "      <td>Deka</td>\n",
       "      <td>Guwahati</td>\n",
       "      <td>whatsapp</td>\n",
       "      <td>whatsappParamananda Deka</td>\n",
       "    </tr>\n",
       "    <tr>\n",
       "      <th>3</th>\n",
       "      <td>2020-08-29 19:36:26.061</td>\n",
       "      <td>Rajesh</td>\n",
       "      <td>Kumar</td>\n",
       "      <td>Raebareli</td>\n",
       "      <td>whatsapp</td>\n",
       "      <td>whatsappRajeshKumar</td>\n",
       "    </tr>\n",
       "    <tr>\n",
       "      <th>4</th>\n",
       "      <td>2020-08-29 19:40:57.353</td>\n",
       "      <td>Akanksha</td>\n",
       "      <td>Kunwar</td>\n",
       "      <td>Dehradun</td>\n",
       "      <td>whatsapp</td>\n",
       "      <td>whatsappAkanksha Kunwar</td>\n",
       "    </tr>\n",
       "  </tbody>\n",
       "</table>\n",
       "</div>"
      ],
      "text/plain": [
       "                Timestamp    First Name Last Name        City Unnamed: 4  \\\n",
       "0 2020-08-29 11:31:02.261           Raj      Maru      Mumbai   whatsapp   \n",
       "1 2020-08-29 16:33:59.010       Prachi   Agarwal   Moradabad    whatsapp   \n",
       "2 2020-08-29 18:08:10.918  Paramananda       Deka    Guwahati   whatsapp   \n",
       "3 2020-08-29 19:36:26.061        Rajesh     Kumar   Raebareli   whatsapp   \n",
       "4 2020-08-29 19:40:57.353     Akanksha     Kunwar    Dehradun   whatsapp   \n",
       "\n",
       "                 Unnamed: 5  \n",
       "0           whatsappRajMaru  \n",
       "1   whatsappPrachi Agarwal   \n",
       "2  whatsappParamananda Deka  \n",
       "3       whatsappRajeshKumar  \n",
       "4   whatsappAkanksha Kunwar  "
      ]
     },
     "execution_count": 10,
     "metadata": {},
     "output_type": "execute_result"
    }
   ],
   "source": [
    "df2=pd.read_excel(\"C:\\\\Users\\\\user\\\\Downloads\\\\4.MKR TASK 2\\\\_Masterclass on - Whatsapp Marketing (Responses).xlsx\")\n",
    "df2.head()"
   ]
  },
  {
   "cell_type": "code",
   "execution_count": 11,
   "metadata": {},
   "outputs": [
    {
     "name": "stdout",
     "output_type": "stream",
     "text": [
      "<class 'pandas.core.frame.DataFrame'>\n",
      "RangeIndex: 389 entries, 0 to 388\n",
      "Data columns (total 6 columns):\n",
      " #   Column      Non-Null Count  Dtype         \n",
      "---  ------      --------------  -----         \n",
      " 0   Timestamp   389 non-null    datetime64[ns]\n",
      " 1   First_Name  389 non-null    object        \n",
      " 2   Last_Name   389 non-null    object        \n",
      " 3   City        389 non-null    object        \n",
      " 4   Unnamed:_4  389 non-null    object        \n",
      " 5   Unnamed:_5  389 non-null    object        \n",
      "dtypes: datetime64[ns](1), object(5)\n",
      "memory usage: 18.4+ KB\n"
     ]
    }
   ],
   "source": [
    "df2.columns = [c.replace(' ', '_') for c in df2.columns]\n",
    "df2.info()"
   ]
  },
  {
   "cell_type": "code",
   "execution_count": 12,
   "metadata": {},
   "outputs": [],
   "source": [
    "df2['Name']= df2['First_Name'] + ' ' + df2['Last_Name']"
   ]
  },
  {
   "cell_type": "code",
   "execution_count": 13,
   "metadata": {},
   "outputs": [],
   "source": [
    "df2.drop(['First_Name','Last_Name','Unnamed:_4','Unnamed:_5'], axis = 1, inplace=True) "
   ]
  },
  {
   "cell_type": "code",
   "execution_count": 14,
   "metadata": {
    "scrolled": true
   },
   "outputs": [
    {
     "name": "stdout",
     "output_type": "stream",
     "text": [
      "<class 'pandas.core.frame.DataFrame'>\n",
      "RangeIndex: 389 entries, 0 to 388\n",
      "Data columns (total 3 columns):\n",
      " #   Column     Non-Null Count  Dtype         \n",
      "---  ------     --------------  -----         \n",
      " 0   Timestamp  389 non-null    datetime64[ns]\n",
      " 1   City       389 non-null    object        \n",
      " 2   Name       389 non-null    object        \n",
      "dtypes: datetime64[ns](1), object(2)\n",
      "memory usage: 9.2+ KB\n"
     ]
    }
   ],
   "source": [
    "df2.info()"
   ]
  },
  {
   "cell_type": "code",
   "execution_count": 15,
   "metadata": {},
   "outputs": [
    {
     "data": {
      "text/html": [
       "<div>\n",
       "<style scoped>\n",
       "    .dataframe tbody tr th:only-of-type {\n",
       "        vertical-align: middle;\n",
       "    }\n",
       "\n",
       "    .dataframe tbody tr th {\n",
       "        vertical-align: top;\n",
       "    }\n",
       "\n",
       "    .dataframe thead th {\n",
       "        text-align: right;\n",
       "    }\n",
       "</style>\n",
       "<table border=\"1\" class=\"dataframe\">\n",
       "  <thead>\n",
       "    <tr style=\"text-align: right;\">\n",
       "      <th></th>\n",
       "      <th>Timestamp</th>\n",
       "      <th>City</th>\n",
       "      <th>Name</th>\n",
       "      <th>Class</th>\n",
       "    </tr>\n",
       "  </thead>\n",
       "  <tbody>\n",
       "    <tr>\n",
       "      <th>0</th>\n",
       "      <td>2020-08-29 11:31:02.261</td>\n",
       "      <td>Mumbai</td>\n",
       "      <td>Raj Maru</td>\n",
       "      <td>Whatsapp Marketing</td>\n",
       "    </tr>\n",
       "    <tr>\n",
       "      <th>1</th>\n",
       "      <td>2020-08-29 16:33:59.010</td>\n",
       "      <td>Moradabad</td>\n",
       "      <td>Prachi  Agarwal</td>\n",
       "      <td>Whatsapp Marketing</td>\n",
       "    </tr>\n",
       "    <tr>\n",
       "      <th>2</th>\n",
       "      <td>2020-08-29 18:08:10.918</td>\n",
       "      <td>Guwahati</td>\n",
       "      <td>Paramananda  Deka</td>\n",
       "      <td>Whatsapp Marketing</td>\n",
       "    </tr>\n",
       "    <tr>\n",
       "      <th>3</th>\n",
       "      <td>2020-08-29 19:36:26.061</td>\n",
       "      <td>Raebareli</td>\n",
       "      <td>Rajesh Kumar</td>\n",
       "      <td>Whatsapp Marketing</td>\n",
       "    </tr>\n",
       "    <tr>\n",
       "      <th>4</th>\n",
       "      <td>2020-08-29 19:40:57.353</td>\n",
       "      <td>Dehradun</td>\n",
       "      <td>Akanksha  Kunwar</td>\n",
       "      <td>Whatsapp Marketing</td>\n",
       "    </tr>\n",
       "  </tbody>\n",
       "</table>\n",
       "</div>"
      ],
      "text/plain": [
       "                Timestamp        City               Name               Class\n",
       "0 2020-08-29 11:31:02.261      Mumbai           Raj Maru  Whatsapp Marketing\n",
       "1 2020-08-29 16:33:59.010  Moradabad    Prachi  Agarwal   Whatsapp Marketing\n",
       "2 2020-08-29 18:08:10.918    Guwahati  Paramananda  Deka  Whatsapp Marketing\n",
       "3 2020-08-29 19:36:26.061   Raebareli       Rajesh Kumar  Whatsapp Marketing\n",
       "4 2020-08-29 19:40:57.353    Dehradun   Akanksha  Kunwar  Whatsapp Marketing"
      ]
     },
     "execution_count": 15,
     "metadata": {},
     "output_type": "execute_result"
    }
   ],
   "source": [
    "Class = ['Whatsapp Marketing' for i in range(len(df2))]\n",
    "df2['Class'] = Class\n",
    "df2.head()"
   ]
  },
  {
   "cell_type": "markdown",
   "metadata": {},
   "source": [
    "## Sheet 3"
   ]
  },
  {
   "cell_type": "code",
   "execution_count": 16,
   "metadata": {},
   "outputs": [
    {
     "data": {
      "text/html": [
       "<div>\n",
       "<style scoped>\n",
       "    .dataframe tbody tr th:only-of-type {\n",
       "        vertical-align: middle;\n",
       "    }\n",
       "\n",
       "    .dataframe tbody tr th {\n",
       "        vertical-align: top;\n",
       "    }\n",
       "\n",
       "    .dataframe thead th {\n",
       "        text-align: right;\n",
       "    }\n",
       "</style>\n",
       "<table border=\"1\" class=\"dataframe\">\n",
       "  <thead>\n",
       "    <tr style=\"text-align: right;\">\n",
       "      <th></th>\n",
       "      <th>Timestamp</th>\n",
       "      <th>First Name</th>\n",
       "      <th>Last Name</th>\n",
       "      <th>City</th>\n",
       "      <th>Unnamed: 4</th>\n",
       "      <th>Unnamed: 5</th>\n",
       "    </tr>\n",
       "  </thead>\n",
       "  <tbody>\n",
       "    <tr>\n",
       "      <th>0</th>\n",
       "      <td>2020-08-02 15:05:28.216</td>\n",
       "      <td>saket</td>\n",
       "      <td>deshmukh</td>\n",
       "      <td>Pune</td>\n",
       "      <td>Public</td>\n",
       "      <td>Publicsaketdeshmukh</td>\n",
       "    </tr>\n",
       "    <tr>\n",
       "      <th>1</th>\n",
       "      <td>2020-08-02 22:13:36.424</td>\n",
       "      <td>Mishika</td>\n",
       "      <td>Sharma</td>\n",
       "      <td>Gurgaon</td>\n",
       "      <td>Public</td>\n",
       "      <td>PublicMishikaSharma</td>\n",
       "    </tr>\n",
       "    <tr>\n",
       "      <th>2</th>\n",
       "      <td>2020-08-02 22:16:43.616</td>\n",
       "      <td>Diksha</td>\n",
       "      <td>Deb</td>\n",
       "      <td>Silchar, Assam</td>\n",
       "      <td>Public</td>\n",
       "      <td>PublicDikshaDeb</td>\n",
       "    </tr>\n",
       "    <tr>\n",
       "      <th>3</th>\n",
       "      <td>2020-08-02 22:17:19.184</td>\n",
       "      <td>Lohith</td>\n",
       "      <td>Bollineni</td>\n",
       "      <td>Chennai</td>\n",
       "      <td>Public</td>\n",
       "      <td>PublicLohithBollineni</td>\n",
       "    </tr>\n",
       "    <tr>\n",
       "      <th>4</th>\n",
       "      <td>2020-08-02 22:20:47.635</td>\n",
       "      <td>Rutuja</td>\n",
       "      <td>Ghorpade</td>\n",
       "      <td>Pune</td>\n",
       "      <td>Public</td>\n",
       "      <td>PublicRutujaGhorpade</td>\n",
       "    </tr>\n",
       "  </tbody>\n",
       "</table>\n",
       "</div>"
      ],
      "text/plain": [
       "                Timestamp First Name  Last Name            City Unnamed: 4  \\\n",
       "0 2020-08-02 15:05:28.216      saket   deshmukh            Pune     Public   \n",
       "1 2020-08-02 22:13:36.424    Mishika     Sharma         Gurgaon     Public   \n",
       "2 2020-08-02 22:16:43.616     Diksha        Deb  Silchar, Assam     Public   \n",
       "3 2020-08-02 22:17:19.184     Lohith  Bollineni         Chennai     Public   \n",
       "4 2020-08-02 22:20:47.635     Rutuja   Ghorpade            Pune     Public   \n",
       "\n",
       "              Unnamed: 5  \n",
       "0    Publicsaketdeshmukh  \n",
       "1    PublicMishikaSharma  \n",
       "2        PublicDikshaDeb  \n",
       "3  PublicLohithBollineni  \n",
       "4   PublicRutujaGhorpade  "
      ]
     },
     "execution_count": 16,
     "metadata": {},
     "output_type": "execute_result"
    }
   ],
   "source": [
    "df3=pd.read_excel(\"C:\\\\Users\\\\user\\\\Downloads\\\\4.MKR TASK 2\\\\Public Speaking - Masterclass (Responses).xlsx\")\n",
    "df3.head()"
   ]
  },
  {
   "cell_type": "code",
   "execution_count": 17,
   "metadata": {},
   "outputs": [
    {
     "name": "stdout",
     "output_type": "stream",
     "text": [
      "<class 'pandas.core.frame.DataFrame'>\n",
      "RangeIndex: 195 entries, 0 to 194\n",
      "Data columns (total 6 columns):\n",
      " #   Column      Non-Null Count  Dtype         \n",
      "---  ------      --------------  -----         \n",
      " 0   Timestamp   195 non-null    datetime64[ns]\n",
      " 1   First_Name  195 non-null    object        \n",
      " 2   Last_Name   195 non-null    object        \n",
      " 3   City        195 non-null    object        \n",
      " 4   Unnamed:_4  195 non-null    object        \n",
      " 5   Unnamed:_5  195 non-null    object        \n",
      "dtypes: datetime64[ns](1), object(5)\n",
      "memory usage: 9.3+ KB\n"
     ]
    }
   ],
   "source": [
    "df3.columns = [c.replace(' ', '_') for c in df3.columns]\n",
    "df3.info()"
   ]
  },
  {
   "cell_type": "code",
   "execution_count": 18,
   "metadata": {},
   "outputs": [],
   "source": [
    "df3['Name']= df3['First_Name'] + ' ' + df3['Last_Name']"
   ]
  },
  {
   "cell_type": "code",
   "execution_count": 19,
   "metadata": {},
   "outputs": [],
   "source": [
    "df3.drop(['First_Name','Last_Name','Unnamed:_4','Unnamed:_5'], axis = 1, inplace=True) "
   ]
  },
  {
   "cell_type": "code",
   "execution_count": 20,
   "metadata": {},
   "outputs": [
    {
     "data": {
      "text/html": [
       "<div>\n",
       "<style scoped>\n",
       "    .dataframe tbody tr th:only-of-type {\n",
       "        vertical-align: middle;\n",
       "    }\n",
       "\n",
       "    .dataframe tbody tr th {\n",
       "        vertical-align: top;\n",
       "    }\n",
       "\n",
       "    .dataframe thead th {\n",
       "        text-align: right;\n",
       "    }\n",
       "</style>\n",
       "<table border=\"1\" class=\"dataframe\">\n",
       "  <thead>\n",
       "    <tr style=\"text-align: right;\">\n",
       "      <th></th>\n",
       "      <th>Timestamp</th>\n",
       "      <th>City</th>\n",
       "      <th>Name</th>\n",
       "      <th>Class</th>\n",
       "    </tr>\n",
       "  </thead>\n",
       "  <tbody>\n",
       "    <tr>\n",
       "      <th>0</th>\n",
       "      <td>2020-08-02 15:05:28.216</td>\n",
       "      <td>Pune</td>\n",
       "      <td>saket deshmukh</td>\n",
       "      <td>Public Speaking</td>\n",
       "    </tr>\n",
       "    <tr>\n",
       "      <th>1</th>\n",
       "      <td>2020-08-02 22:13:36.424</td>\n",
       "      <td>Gurgaon</td>\n",
       "      <td>Mishika Sharma</td>\n",
       "      <td>Public Speaking</td>\n",
       "    </tr>\n",
       "    <tr>\n",
       "      <th>2</th>\n",
       "      <td>2020-08-02 22:16:43.616</td>\n",
       "      <td>Silchar, Assam</td>\n",
       "      <td>Diksha Deb</td>\n",
       "      <td>Public Speaking</td>\n",
       "    </tr>\n",
       "    <tr>\n",
       "      <th>3</th>\n",
       "      <td>2020-08-02 22:17:19.184</td>\n",
       "      <td>Chennai</td>\n",
       "      <td>Lohith Bollineni</td>\n",
       "      <td>Public Speaking</td>\n",
       "    </tr>\n",
       "    <tr>\n",
       "      <th>4</th>\n",
       "      <td>2020-08-02 22:20:47.635</td>\n",
       "      <td>Pune</td>\n",
       "      <td>Rutuja Ghorpade</td>\n",
       "      <td>Public Speaking</td>\n",
       "    </tr>\n",
       "  </tbody>\n",
       "</table>\n",
       "</div>"
      ],
      "text/plain": [
       "                Timestamp            City              Name            Class\n",
       "0 2020-08-02 15:05:28.216            Pune    saket deshmukh  Public Speaking\n",
       "1 2020-08-02 22:13:36.424         Gurgaon    Mishika Sharma  Public Speaking\n",
       "2 2020-08-02 22:16:43.616  Silchar, Assam        Diksha Deb  Public Speaking\n",
       "3 2020-08-02 22:17:19.184         Chennai  Lohith Bollineni  Public Speaking\n",
       "4 2020-08-02 22:20:47.635            Pune   Rutuja Ghorpade  Public Speaking"
      ]
     },
     "execution_count": 20,
     "metadata": {},
     "output_type": "execute_result"
    }
   ],
   "source": [
    "Class = ['Public Speaking' for i in range(len(df3))]\n",
    "df3['Class'] = Class\n",
    "df3.head()"
   ]
  },
  {
   "cell_type": "markdown",
   "metadata": {},
   "source": [
    "## Sheet 4"
   ]
  },
  {
   "cell_type": "code",
   "execution_count": 21,
   "metadata": {},
   "outputs": [
    {
     "data": {
      "text/html": [
       "<div>\n",
       "<style scoped>\n",
       "    .dataframe tbody tr th:only-of-type {\n",
       "        vertical-align: middle;\n",
       "    }\n",
       "\n",
       "    .dataframe tbody tr th {\n",
       "        vertical-align: top;\n",
       "    }\n",
       "\n",
       "    .dataframe thead th {\n",
       "        text-align: right;\n",
       "    }\n",
       "</style>\n",
       "<table border=\"1\" class=\"dataframe\">\n",
       "  <thead>\n",
       "    <tr style=\"text-align: right;\">\n",
       "      <th></th>\n",
       "      <th>Timestamp</th>\n",
       "      <th>First Name</th>\n",
       "      <th>Last Name</th>\n",
       "      <th>City</th>\n",
       "      <th>Unnamed: 4</th>\n",
       "      <th>Unnamed: 5</th>\n",
       "    </tr>\n",
       "  </thead>\n",
       "  <tbody>\n",
       "    <tr>\n",
       "      <th>0</th>\n",
       "      <td>2020-08-14 07:58:54.049</td>\n",
       "      <td>JYOTI</td>\n",
       "      <td>GOSWAMI</td>\n",
       "      <td>Bikramganj</td>\n",
       "      <td>podcast</td>\n",
       "      <td>podcastJYOTIGOSWAMI</td>\n",
       "    </tr>\n",
       "    <tr>\n",
       "      <th>1</th>\n",
       "      <td>2020-08-14 09:31:51.186</td>\n",
       "      <td>Anil</td>\n",
       "      <td>Kumar</td>\n",
       "      <td>Arwal</td>\n",
       "      <td>podcast</td>\n",
       "      <td>podcastAnilKumar</td>\n",
       "    </tr>\n",
       "    <tr>\n",
       "      <th>2</th>\n",
       "      <td>2020-08-14 12:59:11.465</td>\n",
       "      <td>Sandhya</td>\n",
       "      <td>Shakya</td>\n",
       "      <td>Banglore</td>\n",
       "      <td>podcast</td>\n",
       "      <td>podcastSandhya Shakya</td>\n",
       "    </tr>\n",
       "    <tr>\n",
       "      <th>3</th>\n",
       "      <td>2020-08-14 15:23:18.877</td>\n",
       "      <td>Rajnish</td>\n",
       "      <td>Tomar</td>\n",
       "      <td>Delhi</td>\n",
       "      <td>podcast</td>\n",
       "      <td>podcastRajnishTomar</td>\n",
       "    </tr>\n",
       "    <tr>\n",
       "      <th>4</th>\n",
       "      <td>2020-08-14 16:21:04.926</td>\n",
       "      <td>Sheril</td>\n",
       "      <td>Gaikwad</td>\n",
       "      <td>Mumbai</td>\n",
       "      <td>podcast</td>\n",
       "      <td>podcastSheril Gaikwad</td>\n",
       "    </tr>\n",
       "  </tbody>\n",
       "</table>\n",
       "</div>"
      ],
      "text/plain": [
       "                Timestamp First Name Last Name        City Unnamed: 4  \\\n",
       "0 2020-08-14 07:58:54.049      JYOTI   GOSWAMI  Bikramganj    podcast   \n",
       "1 2020-08-14 09:31:51.186       Anil     Kumar       Arwal    podcast   \n",
       "2 2020-08-14 12:59:11.465   Sandhya     Shakya    Banglore    podcast   \n",
       "3 2020-08-14 15:23:18.877    Rajnish     Tomar       Delhi    podcast   \n",
       "4 2020-08-14 16:21:04.926    Sheril   Gaikwad      Mumbai     podcast   \n",
       "\n",
       "               Unnamed: 5  \n",
       "0     podcastJYOTIGOSWAMI  \n",
       "1        podcastAnilKumar  \n",
       "2   podcastSandhya Shakya  \n",
       "3     podcastRajnishTomar  \n",
       "4  podcastSheril Gaikwad   "
      ]
     },
     "execution_count": 21,
     "metadata": {},
     "output_type": "execute_result"
    }
   ],
   "source": [
    "df4=pd.read_excel(\"C:\\\\Users\\\\user\\\\Downloads\\\\4.MKR TASK 2\\\\The Podcast - Masterclass (Responses).xlsx\")\n",
    "df4.head()"
   ]
  },
  {
   "cell_type": "code",
   "execution_count": 22,
   "metadata": {},
   "outputs": [
    {
     "name": "stdout",
     "output_type": "stream",
     "text": [
      "<class 'pandas.core.frame.DataFrame'>\n",
      "RangeIndex: 223 entries, 0 to 222\n",
      "Data columns (total 6 columns):\n",
      " #   Column      Non-Null Count  Dtype         \n",
      "---  ------      --------------  -----         \n",
      " 0   Timestamp   223 non-null    datetime64[ns]\n",
      " 1   First_Name  223 non-null    object        \n",
      " 2   Last_Name   223 non-null    object        \n",
      " 3   City        223 non-null    object        \n",
      " 4   Unnamed:_4  223 non-null    object        \n",
      " 5   Unnamed:_5  223 non-null    object        \n",
      "dtypes: datetime64[ns](1), object(5)\n",
      "memory usage: 10.6+ KB\n"
     ]
    }
   ],
   "source": [
    "df4.columns = [c.replace(' ', '_') for c in df4.columns]\n",
    "df4.info()"
   ]
  },
  {
   "cell_type": "code",
   "execution_count": 23,
   "metadata": {},
   "outputs": [],
   "source": [
    "df4['Name']= df4['First_Name'] + ' ' + df4['Last_Name']"
   ]
  },
  {
   "cell_type": "code",
   "execution_count": 24,
   "metadata": {},
   "outputs": [],
   "source": [
    "df4.drop(['First_Name','Last_Name','Unnamed:_4','Unnamed:_5'], axis = 1, inplace=True) "
   ]
  },
  {
   "cell_type": "code",
   "execution_count": 25,
   "metadata": {},
   "outputs": [
    {
     "data": {
      "text/html": [
       "<div>\n",
       "<style scoped>\n",
       "    .dataframe tbody tr th:only-of-type {\n",
       "        vertical-align: middle;\n",
       "    }\n",
       "\n",
       "    .dataframe tbody tr th {\n",
       "        vertical-align: top;\n",
       "    }\n",
       "\n",
       "    .dataframe thead th {\n",
       "        text-align: right;\n",
       "    }\n",
       "</style>\n",
       "<table border=\"1\" class=\"dataframe\">\n",
       "  <thead>\n",
       "    <tr style=\"text-align: right;\">\n",
       "      <th></th>\n",
       "      <th>Timestamp</th>\n",
       "      <th>City</th>\n",
       "      <th>Name</th>\n",
       "      <th>Class</th>\n",
       "    </tr>\n",
       "  </thead>\n",
       "  <tbody>\n",
       "    <tr>\n",
       "      <th>0</th>\n",
       "      <td>2020-08-14 07:58:54.049</td>\n",
       "      <td>Bikramganj</td>\n",
       "      <td>JYOTI GOSWAMI</td>\n",
       "      <td>Podcast</td>\n",
       "    </tr>\n",
       "    <tr>\n",
       "      <th>1</th>\n",
       "      <td>2020-08-14 09:31:51.186</td>\n",
       "      <td>Arwal</td>\n",
       "      <td>Anil Kumar</td>\n",
       "      <td>Podcast</td>\n",
       "    </tr>\n",
       "    <tr>\n",
       "      <th>2</th>\n",
       "      <td>2020-08-14 12:59:11.465</td>\n",
       "      <td>Banglore</td>\n",
       "      <td>Sandhya  Shakya</td>\n",
       "      <td>Podcast</td>\n",
       "    </tr>\n",
       "    <tr>\n",
       "      <th>3</th>\n",
       "      <td>2020-08-14 15:23:18.877</td>\n",
       "      <td>Delhi</td>\n",
       "      <td>Rajnish Tomar</td>\n",
       "      <td>Podcast</td>\n",
       "    </tr>\n",
       "    <tr>\n",
       "      <th>4</th>\n",
       "      <td>2020-08-14 16:21:04.926</td>\n",
       "      <td>Mumbai</td>\n",
       "      <td>Sheril  Gaikwad</td>\n",
       "      <td>Podcast</td>\n",
       "    </tr>\n",
       "  </tbody>\n",
       "</table>\n",
       "</div>"
      ],
      "text/plain": [
       "                Timestamp        City              Name    Class\n",
       "0 2020-08-14 07:58:54.049  Bikramganj     JYOTI GOSWAMI  Podcast\n",
       "1 2020-08-14 09:31:51.186       Arwal        Anil Kumar  Podcast\n",
       "2 2020-08-14 12:59:11.465    Banglore   Sandhya  Shakya  Podcast\n",
       "3 2020-08-14 15:23:18.877       Delhi     Rajnish Tomar  Podcast\n",
       "4 2020-08-14 16:21:04.926     Mumbai   Sheril  Gaikwad   Podcast"
      ]
     },
     "execution_count": 25,
     "metadata": {},
     "output_type": "execute_result"
    }
   ],
   "source": [
    "Class = ['Podcast' for i in range(len(df4))]\n",
    "df4['Class'] = Class\n",
    "df4.head()"
   ]
  },
  {
   "cell_type": "markdown",
   "metadata": {},
   "source": [
    "## Sheet 5"
   ]
  },
  {
   "cell_type": "code",
   "execution_count": 26,
   "metadata": {},
   "outputs": [
    {
     "data": {
      "text/html": [
       "<div>\n",
       "<style scoped>\n",
       "    .dataframe tbody tr th:only-of-type {\n",
       "        vertical-align: middle;\n",
       "    }\n",
       "\n",
       "    .dataframe tbody tr th {\n",
       "        vertical-align: top;\n",
       "    }\n",
       "\n",
       "    .dataframe thead th {\n",
       "        text-align: right;\n",
       "    }\n",
       "</style>\n",
       "<table border=\"1\" class=\"dataframe\">\n",
       "  <thead>\n",
       "    <tr style=\"text-align: right;\">\n",
       "      <th></th>\n",
       "      <th>Timestamp</th>\n",
       "      <th>First Name</th>\n",
       "      <th>Last Name</th>\n",
       "      <th>City</th>\n",
       "      <th>Unnamed: 4</th>\n",
       "      <th>Unnamed: 5</th>\n",
       "    </tr>\n",
       "  </thead>\n",
       "  <tbody>\n",
       "    <tr>\n",
       "      <th>0</th>\n",
       "      <td>2020-09-19 16:30:06.460</td>\n",
       "      <td>Deepali</td>\n",
       "      <td>Vandana</td>\n",
       "      <td>Mumbai</td>\n",
       "      <td>DMC</td>\n",
       "      <td>DMCDeepaliVandana</td>\n",
       "    </tr>\n",
       "    <tr>\n",
       "      <th>1</th>\n",
       "      <td>2020-09-19 17:18:17.638</td>\n",
       "      <td>Supriya</td>\n",
       "      <td>Glory</td>\n",
       "      <td>Bangalore</td>\n",
       "      <td>DMC</td>\n",
       "      <td>DMCSupriya Glory</td>\n",
       "    </tr>\n",
       "    <tr>\n",
       "      <th>2</th>\n",
       "      <td>2020-09-19 19:29:09.356</td>\n",
       "      <td>Samiksha</td>\n",
       "      <td>Todaria</td>\n",
       "      <td>Dehradun</td>\n",
       "      <td>DMC</td>\n",
       "      <td>DMCSamikshaTodaria</td>\n",
       "    </tr>\n",
       "    <tr>\n",
       "      <th>3</th>\n",
       "      <td>2020-09-20 03:33:16.894</td>\n",
       "      <td>Ajay</td>\n",
       "      <td>Kushwaha</td>\n",
       "      <td>Maihar</td>\n",
       "      <td>DMC</td>\n",
       "      <td>DMCAjayKushwaha</td>\n",
       "    </tr>\n",
       "    <tr>\n",
       "      <th>4</th>\n",
       "      <td>2020-09-20 16:50:17.189</td>\n",
       "      <td>Divya Sai Teja</td>\n",
       "      <td>Sindiri</td>\n",
       "      <td>Visakhapatnam</td>\n",
       "      <td>DMC</td>\n",
       "      <td>DMCDivya Sai TejaSindiri</td>\n",
       "    </tr>\n",
       "  </tbody>\n",
       "</table>\n",
       "</div>"
      ],
      "text/plain": [
       "                Timestamp      First Name Last Name            City  \\\n",
       "0 2020-09-19 16:30:06.460         Deepali   Vandana          Mumbai   \n",
       "1 2020-09-19 17:18:17.638        Supriya     Glory       Bangalore    \n",
       "2 2020-09-19 19:29:09.356        Samiksha   Todaria        Dehradun   \n",
       "3 2020-09-20 03:33:16.894            Ajay  Kushwaha          Maihar   \n",
       "4 2020-09-20 16:50:17.189  Divya Sai Teja   Sindiri  Visakhapatnam    \n",
       "\n",
       "  Unnamed: 4                Unnamed: 5  \n",
       "0        DMC         DMCDeepaliVandana  \n",
       "1        DMC         DMCSupriya Glory   \n",
       "2        DMC        DMCSamikshaTodaria  \n",
       "3        DMC           DMCAjayKushwaha  \n",
       "4        DMC  DMCDivya Sai TejaSindiri  "
      ]
     },
     "execution_count": 26,
     "metadata": {},
     "output_type": "execute_result"
    }
   ],
   "source": [
    "df5=pd.read_excel(\"C:\\\\Users\\\\user\\\\Downloads\\\\4.MKR TASK 2\\\\Masterclass - The Basics Of Digital Marketing (Responses).xlsx\")\n",
    "df5.head()"
   ]
  },
  {
   "cell_type": "code",
   "execution_count": 27,
   "metadata": {},
   "outputs": [
    {
     "name": "stdout",
     "output_type": "stream",
     "text": [
      "<class 'pandas.core.frame.DataFrame'>\n",
      "RangeIndex: 244 entries, 0 to 243\n",
      "Data columns (total 6 columns):\n",
      " #   Column      Non-Null Count  Dtype         \n",
      "---  ------      --------------  -----         \n",
      " 0   Timestamp   244 non-null    datetime64[ns]\n",
      " 1   First_Name  244 non-null    object        \n",
      " 2   Last_Name   244 non-null    object        \n",
      " 3   City        244 non-null    object        \n",
      " 4   Unnamed:_4  244 non-null    object        \n",
      " 5   Unnamed:_5  244 non-null    object        \n",
      "dtypes: datetime64[ns](1), object(5)\n",
      "memory usage: 11.6+ KB\n"
     ]
    }
   ],
   "source": [
    "df5.columns = [c.replace(' ', '_') for c in df5.columns]\n",
    "df5.info()"
   ]
  },
  {
   "cell_type": "code",
   "execution_count": 28,
   "metadata": {},
   "outputs": [],
   "source": [
    "df5['Name']= df5['First_Name'] + ' ' + df5['Last_Name']"
   ]
  },
  {
   "cell_type": "code",
   "execution_count": 29,
   "metadata": {},
   "outputs": [],
   "source": [
    "df5.drop(['First_Name','Last_Name','Unnamed:_4','Unnamed:_5'], axis = 1, inplace=True) "
   ]
  },
  {
   "cell_type": "code",
   "execution_count": 30,
   "metadata": {},
   "outputs": [
    {
     "data": {
      "text/html": [
       "<div>\n",
       "<style scoped>\n",
       "    .dataframe tbody tr th:only-of-type {\n",
       "        vertical-align: middle;\n",
       "    }\n",
       "\n",
       "    .dataframe tbody tr th {\n",
       "        vertical-align: top;\n",
       "    }\n",
       "\n",
       "    .dataframe thead th {\n",
       "        text-align: right;\n",
       "    }\n",
       "</style>\n",
       "<table border=\"1\" class=\"dataframe\">\n",
       "  <thead>\n",
       "    <tr style=\"text-align: right;\">\n",
       "      <th></th>\n",
       "      <th>Timestamp</th>\n",
       "      <th>City</th>\n",
       "      <th>Name</th>\n",
       "      <th>Class</th>\n",
       "    </tr>\n",
       "  </thead>\n",
       "  <tbody>\n",
       "    <tr>\n",
       "      <th>0</th>\n",
       "      <td>2020-09-19 16:30:06.460</td>\n",
       "      <td>Mumbai</td>\n",
       "      <td>Deepali Vandana</td>\n",
       "      <td>Digital Marketing</td>\n",
       "    </tr>\n",
       "    <tr>\n",
       "      <th>1</th>\n",
       "      <td>2020-09-19 17:18:17.638</td>\n",
       "      <td>Bangalore</td>\n",
       "      <td>Supriya  Glory</td>\n",
       "      <td>Digital Marketing</td>\n",
       "    </tr>\n",
       "    <tr>\n",
       "      <th>2</th>\n",
       "      <td>2020-09-19 19:29:09.356</td>\n",
       "      <td>Dehradun</td>\n",
       "      <td>Samiksha Todaria</td>\n",
       "      <td>Digital Marketing</td>\n",
       "    </tr>\n",
       "    <tr>\n",
       "      <th>3</th>\n",
       "      <td>2020-09-20 03:33:16.894</td>\n",
       "      <td>Maihar</td>\n",
       "      <td>Ajay Kushwaha</td>\n",
       "      <td>Digital Marketing</td>\n",
       "    </tr>\n",
       "    <tr>\n",
       "      <th>4</th>\n",
       "      <td>2020-09-20 16:50:17.189</td>\n",
       "      <td>Visakhapatnam</td>\n",
       "      <td>Divya Sai Teja Sindiri</td>\n",
       "      <td>Digital Marketing</td>\n",
       "    </tr>\n",
       "  </tbody>\n",
       "</table>\n",
       "</div>"
      ],
      "text/plain": [
       "                Timestamp            City                    Name  \\\n",
       "0 2020-09-19 16:30:06.460          Mumbai         Deepali Vandana   \n",
       "1 2020-09-19 17:18:17.638      Bangalore          Supriya  Glory    \n",
       "2 2020-09-19 19:29:09.356        Dehradun        Samiksha Todaria   \n",
       "3 2020-09-20 03:33:16.894          Maihar           Ajay Kushwaha   \n",
       "4 2020-09-20 16:50:17.189  Visakhapatnam   Divya Sai Teja Sindiri   \n",
       "\n",
       "               Class  \n",
       "0  Digital Marketing  \n",
       "1  Digital Marketing  \n",
       "2  Digital Marketing  \n",
       "3  Digital Marketing  \n",
       "4  Digital Marketing  "
      ]
     },
     "execution_count": 30,
     "metadata": {},
     "output_type": "execute_result"
    }
   ],
   "source": [
    "Class = ['Digital Marketing' for i in range(len(df5))]\n",
    "df5['Class'] = Class\n",
    "df5.head()"
   ]
  },
  {
   "cell_type": "markdown",
   "metadata": {},
   "source": [
    "## Sheet 6"
   ]
  },
  {
   "cell_type": "code",
   "execution_count": 31,
   "metadata": {},
   "outputs": [
    {
     "data": {
      "text/html": [
       "<div>\n",
       "<style scoped>\n",
       "    .dataframe tbody tr th:only-of-type {\n",
       "        vertical-align: middle;\n",
       "    }\n",
       "\n",
       "    .dataframe tbody tr th {\n",
       "        vertical-align: top;\n",
       "    }\n",
       "\n",
       "    .dataframe thead th {\n",
       "        text-align: right;\n",
       "    }\n",
       "</style>\n",
       "<table border=\"1\" class=\"dataframe\">\n",
       "  <thead>\n",
       "    <tr style=\"text-align: right;\">\n",
       "      <th></th>\n",
       "      <th>Timestamp</th>\n",
       "      <th>First Name</th>\n",
       "      <th>Last Name</th>\n",
       "      <th>City</th>\n",
       "      <th>Unnamed: 4</th>\n",
       "      <th>Unnamed: 5</th>\n",
       "    </tr>\n",
       "  </thead>\n",
       "  <tbody>\n",
       "    <tr>\n",
       "      <th>0</th>\n",
       "      <td>2020-08-09 21:10:59.330</td>\n",
       "      <td>Anuja</td>\n",
       "      <td>Kharkar</td>\n",
       "      <td>Bhopal</td>\n",
       "      <td>canva</td>\n",
       "      <td>canvaAnujaKharkar</td>\n",
       "    </tr>\n",
       "    <tr>\n",
       "      <th>1</th>\n",
       "      <td>2020-08-09 21:27:42.550</td>\n",
       "      <td>Abhishek</td>\n",
       "      <td>Bhardwaj</td>\n",
       "      <td>New delhi</td>\n",
       "      <td>canva</td>\n",
       "      <td>canvaAbhishek Bhardwaj</td>\n",
       "    </tr>\n",
       "    <tr>\n",
       "      <th>2</th>\n",
       "      <td>2020-08-09 21:29:55.608</td>\n",
       "      <td>Manjiri</td>\n",
       "      <td>Sonone</td>\n",
       "      <td>Pune</td>\n",
       "      <td>canva</td>\n",
       "      <td>canvaManjiriSonone</td>\n",
       "    </tr>\n",
       "    <tr>\n",
       "      <th>3</th>\n",
       "      <td>2020-08-09 21:30:34.752</td>\n",
       "      <td>Anthima</td>\n",
       "      <td>Singh</td>\n",
       "      <td>Hyderabad</td>\n",
       "      <td>canva</td>\n",
       "      <td>canvaAnthimaSingh</td>\n",
       "    </tr>\n",
       "    <tr>\n",
       "      <th>4</th>\n",
       "      <td>2020-08-09 21:36:48.633</td>\n",
       "      <td>Dharini</td>\n",
       "      <td>Shah</td>\n",
       "      <td>Mumbai</td>\n",
       "      <td>canva</td>\n",
       "      <td>canvaDhariniShah</td>\n",
       "    </tr>\n",
       "  </tbody>\n",
       "</table>\n",
       "</div>"
      ],
      "text/plain": [
       "                Timestamp First Name  Last Name        City Unnamed: 4  \\\n",
       "0 2020-08-09 21:10:59.330      Anuja    Kharkar      Bhopal      canva   \n",
       "1 2020-08-09 21:27:42.550  Abhishek   Bhardwaj    New delhi      canva   \n",
       "2 2020-08-09 21:29:55.608    Manjiri     Sonone        Pune      canva   \n",
       "3 2020-08-09 21:30:34.752    Anthima      Singh  Hyderabad       canva   \n",
       "4 2020-08-09 21:36:48.633    Dharini       Shah      Mumbai      canva   \n",
       "\n",
       "                Unnamed: 5  \n",
       "0        canvaAnujaKharkar  \n",
       "1  canvaAbhishek Bhardwaj   \n",
       "2       canvaManjiriSonone  \n",
       "3        canvaAnthimaSingh  \n",
       "4         canvaDhariniShah  "
      ]
     },
     "execution_count": 31,
     "metadata": {},
     "output_type": "execute_result"
    }
   ],
   "source": [
    "df6=pd.read_excel(\"C:\\\\Users\\\\user\\\\Downloads\\\\4.MKR TASK 2\\\\Masterclass on Basics of Canva - a Graphic Design Platform (Responses).xlsx\")\n",
    "df6.head()"
   ]
  },
  {
   "cell_type": "code",
   "execution_count": 32,
   "metadata": {},
   "outputs": [
    {
     "name": "stdout",
     "output_type": "stream",
     "text": [
      "<class 'pandas.core.frame.DataFrame'>\n",
      "RangeIndex: 666 entries, 0 to 665\n",
      "Data columns (total 6 columns):\n",
      " #   Column      Non-Null Count  Dtype         \n",
      "---  ------      --------------  -----         \n",
      " 0   Timestamp   666 non-null    datetime64[ns]\n",
      " 1   First_Name  666 non-null    object        \n",
      " 2   Last_Name   666 non-null    object        \n",
      " 3   City        666 non-null    object        \n",
      " 4   Unnamed:_4  666 non-null    object        \n",
      " 5   Unnamed:_5  666 non-null    object        \n",
      "dtypes: datetime64[ns](1), object(5)\n",
      "memory usage: 31.3+ KB\n"
     ]
    }
   ],
   "source": [
    "df6.columns = [c.replace(' ', '_') for c in df6.columns]\n",
    "df6.info()"
   ]
  },
  {
   "cell_type": "code",
   "execution_count": 33,
   "metadata": {},
   "outputs": [],
   "source": [
    "df6['Name']= df6['First_Name'] + ' ' + df6['Last_Name']"
   ]
  },
  {
   "cell_type": "code",
   "execution_count": 34,
   "metadata": {},
   "outputs": [],
   "source": [
    "df6.drop(['First_Name','Last_Name','Unnamed:_4','Unnamed:_5'], axis = 1, inplace=True) "
   ]
  },
  {
   "cell_type": "code",
   "execution_count": 35,
   "metadata": {},
   "outputs": [
    {
     "data": {
      "text/html": [
       "<div>\n",
       "<style scoped>\n",
       "    .dataframe tbody tr th:only-of-type {\n",
       "        vertical-align: middle;\n",
       "    }\n",
       "\n",
       "    .dataframe tbody tr th {\n",
       "        vertical-align: top;\n",
       "    }\n",
       "\n",
       "    .dataframe thead th {\n",
       "        text-align: right;\n",
       "    }\n",
       "</style>\n",
       "<table border=\"1\" class=\"dataframe\">\n",
       "  <thead>\n",
       "    <tr style=\"text-align: right;\">\n",
       "      <th></th>\n",
       "      <th>Timestamp</th>\n",
       "      <th>City</th>\n",
       "      <th>Name</th>\n",
       "      <th>Class</th>\n",
       "    </tr>\n",
       "  </thead>\n",
       "  <tbody>\n",
       "    <tr>\n",
       "      <th>0</th>\n",
       "      <td>2020-08-09 21:10:59.330</td>\n",
       "      <td>Bhopal</td>\n",
       "      <td>Anuja Kharkar</td>\n",
       "      <td>Canva</td>\n",
       "    </tr>\n",
       "    <tr>\n",
       "      <th>1</th>\n",
       "      <td>2020-08-09 21:27:42.550</td>\n",
       "      <td>New delhi</td>\n",
       "      <td>Abhishek  Bhardwaj</td>\n",
       "      <td>Canva</td>\n",
       "    </tr>\n",
       "    <tr>\n",
       "      <th>2</th>\n",
       "      <td>2020-08-09 21:29:55.608</td>\n",
       "      <td>Pune</td>\n",
       "      <td>Manjiri Sonone</td>\n",
       "      <td>Canva</td>\n",
       "    </tr>\n",
       "    <tr>\n",
       "      <th>3</th>\n",
       "      <td>2020-08-09 21:30:34.752</td>\n",
       "      <td>Hyderabad</td>\n",
       "      <td>Anthima Singh</td>\n",
       "      <td>Canva</td>\n",
       "    </tr>\n",
       "    <tr>\n",
       "      <th>4</th>\n",
       "      <td>2020-08-09 21:36:48.633</td>\n",
       "      <td>Mumbai</td>\n",
       "      <td>Dharini Shah</td>\n",
       "      <td>Canva</td>\n",
       "    </tr>\n",
       "  </tbody>\n",
       "</table>\n",
       "</div>"
      ],
      "text/plain": [
       "                Timestamp        City                 Name  Class\n",
       "0 2020-08-09 21:10:59.330      Bhopal        Anuja Kharkar  Canva\n",
       "1 2020-08-09 21:27:42.550   New delhi  Abhishek  Bhardwaj   Canva\n",
       "2 2020-08-09 21:29:55.608        Pune       Manjiri Sonone  Canva\n",
       "3 2020-08-09 21:30:34.752  Hyderabad         Anthima Singh  Canva\n",
       "4 2020-08-09 21:36:48.633      Mumbai         Dharini Shah  Canva"
      ]
     },
     "execution_count": 35,
     "metadata": {},
     "output_type": "execute_result"
    }
   ],
   "source": [
    "Class = ['Canva' for i in range(len(df6))]\n",
    "df6['Class'] = Class\n",
    "df6.head()"
   ]
  },
  {
   "cell_type": "markdown",
   "metadata": {},
   "source": [
    "## Sheet 7"
   ]
  },
  {
   "cell_type": "code",
   "execution_count": 36,
   "metadata": {},
   "outputs": [
    {
     "data": {
      "text/html": [
       "<div>\n",
       "<style scoped>\n",
       "    .dataframe tbody tr th:only-of-type {\n",
       "        vertical-align: middle;\n",
       "    }\n",
       "\n",
       "    .dataframe tbody tr th {\n",
       "        vertical-align: top;\n",
       "    }\n",
       "\n",
       "    .dataframe thead th {\n",
       "        text-align: right;\n",
       "    }\n",
       "</style>\n",
       "<table border=\"1\" class=\"dataframe\">\n",
       "  <thead>\n",
       "    <tr style=\"text-align: right;\">\n",
       "      <th></th>\n",
       "      <th>Timestamp</th>\n",
       "      <th>First Name</th>\n",
       "      <th>City</th>\n",
       "      <th>Last Name</th>\n",
       "      <th>Unnamed: 4</th>\n",
       "    </tr>\n",
       "  </thead>\n",
       "  <tbody>\n",
       "    <tr>\n",
       "      <th>0</th>\n",
       "      <td>2020-07-28 16:46:31.177</td>\n",
       "      <td>Samrita</td>\n",
       "      <td>Raipur</td>\n",
       "      <td>NaN</td>\n",
       "      <td>NaN</td>\n",
       "    </tr>\n",
       "    <tr>\n",
       "      <th>1</th>\n",
       "      <td>2020-07-28 16:46:43.534</td>\n",
       "      <td>Khushi Tiwari</td>\n",
       "      <td>Gurgaon</td>\n",
       "      <td>NaN</td>\n",
       "      <td>NaN</td>\n",
       "    </tr>\n",
       "    <tr>\n",
       "      <th>2</th>\n",
       "      <td>2020-07-28 16:48:02.362</td>\n",
       "      <td>Shreya Biswas</td>\n",
       "      <td>Bhilai</td>\n",
       "      <td>NaN</td>\n",
       "      <td>NaN</td>\n",
       "    </tr>\n",
       "    <tr>\n",
       "      <th>3</th>\n",
       "      <td>2020-07-28 16:49:58.147</td>\n",
       "      <td>Hardik Patni</td>\n",
       "      <td>Pune</td>\n",
       "      <td>NaN</td>\n",
       "      <td>NaN</td>\n",
       "    </tr>\n",
       "    <tr>\n",
       "      <th>4</th>\n",
       "      <td>2020-07-28 16:50:17.182</td>\n",
       "      <td>Anhad Preet Singh</td>\n",
       "      <td>Chennai</td>\n",
       "      <td>NaN</td>\n",
       "      <td>NaN</td>\n",
       "    </tr>\n",
       "  </tbody>\n",
       "</table>\n",
       "</div>"
      ],
      "text/plain": [
       "                Timestamp         First Name      City Last Name Unnamed: 4\n",
       "0 2020-07-28 16:46:31.177            Samrita    Raipur       NaN        NaN\n",
       "1 2020-07-28 16:46:43.534     Khushi Tiwari   Gurgaon        NaN        NaN\n",
       "2 2020-07-28 16:48:02.362      Shreya Biswas    Bhilai       NaN        NaN\n",
       "3 2020-07-28 16:49:58.147       Hardik Patni      Pune       NaN        NaN\n",
       "4 2020-07-28 16:50:17.182  Anhad Preet Singh   Chennai       NaN        NaN"
      ]
     },
     "execution_count": 36,
     "metadata": {},
     "output_type": "execute_result"
    }
   ],
   "source": [
    "df7=pd.read_excel(\"C:\\\\Users\\\\user\\\\Downloads\\\\4.MKR TASK 2\\\\Basic Video Editing - Masterclass (Responses).xlsx\")\n",
    "df7.head()"
   ]
  },
  {
   "cell_type": "code",
   "execution_count": 37,
   "metadata": {},
   "outputs": [
    {
     "name": "stdout",
     "output_type": "stream",
     "text": [
      "<class 'pandas.core.frame.DataFrame'>\n",
      "RangeIndex: 586 entries, 0 to 585\n",
      "Data columns (total 5 columns):\n",
      " #   Column      Non-Null Count  Dtype         \n",
      "---  ------      --------------  -----         \n",
      " 0   Timestamp   586 non-null    datetime64[ns]\n",
      " 1   First_Name  586 non-null    object        \n",
      " 2   City        586 non-null    object        \n",
      " 3   Last_Name   205 non-null    object        \n",
      " 4   Unnamed:_4  115 non-null    object        \n",
      "dtypes: datetime64[ns](1), object(4)\n",
      "memory usage: 23.0+ KB\n"
     ]
    }
   ],
   "source": [
    "df7.columns = [c.replace(' ', '_') for c in df7.columns]\n",
    "df7.info()"
   ]
  },
  {
   "cell_type": "code",
   "execution_count": 38,
   "metadata": {},
   "outputs": [],
   "source": [
    "df7.drop(['Unnamed:_4'], axis = 1, inplace=True) "
   ]
  },
  {
   "cell_type": "code",
   "execution_count": 39,
   "metadata": {},
   "outputs": [
    {
     "data": {
      "text/html": [
       "<div>\n",
       "<style scoped>\n",
       "    .dataframe tbody tr th:only-of-type {\n",
       "        vertical-align: middle;\n",
       "    }\n",
       "\n",
       "    .dataframe tbody tr th {\n",
       "        vertical-align: top;\n",
       "    }\n",
       "\n",
       "    .dataframe thead th {\n",
       "        text-align: right;\n",
       "    }\n",
       "</style>\n",
       "<table border=\"1\" class=\"dataframe\">\n",
       "  <thead>\n",
       "    <tr style=\"text-align: right;\">\n",
       "      <th></th>\n",
       "      <th>Timestamp</th>\n",
       "      <th>First_Name</th>\n",
       "      <th>City</th>\n",
       "      <th>Last_Name</th>\n",
       "    </tr>\n",
       "  </thead>\n",
       "  <tbody>\n",
       "    <tr>\n",
       "      <th>0</th>\n",
       "      <td>2020-07-28 16:46:31.177</td>\n",
       "      <td>Samrita</td>\n",
       "      <td>Raipur</td>\n",
       "      <td>NaN</td>\n",
       "    </tr>\n",
       "    <tr>\n",
       "      <th>1</th>\n",
       "      <td>2020-07-28 16:46:43.534</td>\n",
       "      <td>Khushi Tiwari</td>\n",
       "      <td>Gurgaon</td>\n",
       "      <td>NaN</td>\n",
       "    </tr>\n",
       "    <tr>\n",
       "      <th>2</th>\n",
       "      <td>2020-07-28 16:48:02.362</td>\n",
       "      <td>Shreya Biswas</td>\n",
       "      <td>Bhilai</td>\n",
       "      <td>NaN</td>\n",
       "    </tr>\n",
       "    <tr>\n",
       "      <th>3</th>\n",
       "      <td>2020-07-28 16:49:58.147</td>\n",
       "      <td>Hardik Patni</td>\n",
       "      <td>Pune</td>\n",
       "      <td>NaN</td>\n",
       "    </tr>\n",
       "    <tr>\n",
       "      <th>4</th>\n",
       "      <td>2020-07-28 16:50:17.182</td>\n",
       "      <td>Anhad Preet Singh</td>\n",
       "      <td>Chennai</td>\n",
       "      <td>NaN</td>\n",
       "    </tr>\n",
       "  </tbody>\n",
       "</table>\n",
       "</div>"
      ],
      "text/plain": [
       "                Timestamp         First_Name      City Last_Name\n",
       "0 2020-07-28 16:46:31.177            Samrita    Raipur       NaN\n",
       "1 2020-07-28 16:46:43.534     Khushi Tiwari   Gurgaon        NaN\n",
       "2 2020-07-28 16:48:02.362      Shreya Biswas    Bhilai       NaN\n",
       "3 2020-07-28 16:49:58.147       Hardik Patni      Pune       NaN\n",
       "4 2020-07-28 16:50:17.182  Anhad Preet Singh   Chennai       NaN"
      ]
     },
     "execution_count": 39,
     "metadata": {},
     "output_type": "execute_result"
    }
   ],
   "source": [
    "df7.head()"
   ]
  },
  {
   "cell_type": "code",
   "execution_count": 40,
   "metadata": {},
   "outputs": [
    {
     "data": {
      "text/html": [
       "<div>\n",
       "<style scoped>\n",
       "    .dataframe tbody tr th:only-of-type {\n",
       "        vertical-align: middle;\n",
       "    }\n",
       "\n",
       "    .dataframe tbody tr th {\n",
       "        vertical-align: top;\n",
       "    }\n",
       "\n",
       "    .dataframe thead th {\n",
       "        text-align: right;\n",
       "    }\n",
       "</style>\n",
       "<table border=\"1\" class=\"dataframe\">\n",
       "  <thead>\n",
       "    <tr style=\"text-align: right;\">\n",
       "      <th></th>\n",
       "      <th>Timestamp</th>\n",
       "      <th>First_Name</th>\n",
       "      <th>City</th>\n",
       "      <th>Last_Name</th>\n",
       "    </tr>\n",
       "  </thead>\n",
       "  <tbody>\n",
       "    <tr>\n",
       "      <th>581</th>\n",
       "      <td>2020-08-02 14:05:45.856</td>\n",
       "      <td>Kalyani</td>\n",
       "      <td>Pune</td>\n",
       "      <td>Jha</td>\n",
       "    </tr>\n",
       "    <tr>\n",
       "      <th>582</th>\n",
       "      <td>2020-08-02 20:13:55.905</td>\n",
       "      <td>Prathyusha</td>\n",
       "      <td>Kondapalli</td>\n",
       "      <td>Vangaveeti</td>\n",
       "    </tr>\n",
       "    <tr>\n",
       "      <th>583</th>\n",
       "      <td>2020-08-04 01:22:17.969</td>\n",
       "      <td>Munnawar</td>\n",
       "      <td>Pune</td>\n",
       "      <td>Nagarbawadi</td>\n",
       "    </tr>\n",
       "    <tr>\n",
       "      <th>584</th>\n",
       "      <td>2020-08-04 08:51:10.272</td>\n",
       "      <td>Souvik</td>\n",
       "      <td>Guwahati</td>\n",
       "      <td>das</td>\n",
       "    </tr>\n",
       "    <tr>\n",
       "      <th>585</th>\n",
       "      <td>2020-09-11 19:01:30.905</td>\n",
       "      <td>Manan</td>\n",
       "      <td>Pune</td>\n",
       "      <td>Sanghnai</td>\n",
       "    </tr>\n",
       "  </tbody>\n",
       "</table>\n",
       "</div>"
      ],
      "text/plain": [
       "                  Timestamp   First_Name        City     Last_Name\n",
       "581 2020-08-02 14:05:45.856      Kalyani        Pune           Jha\n",
       "582 2020-08-02 20:13:55.905  Prathyusha   Kondapalli   Vangaveeti \n",
       "583 2020-08-04 01:22:17.969    Munnawar         Pune  Nagarbawadi \n",
       "584 2020-08-04 08:51:10.272       Souvik    Guwahati           das\n",
       "585 2020-09-11 19:01:30.905        Manan        Pune      Sanghnai"
      ]
     },
     "execution_count": 40,
     "metadata": {},
     "output_type": "execute_result"
    }
   ],
   "source": [
    "df7.tail()"
   ]
  },
  {
   "cell_type": "code",
   "execution_count": 41,
   "metadata": {},
   "outputs": [
    {
     "data": {
      "text/html": [
       "<div>\n",
       "<style scoped>\n",
       "    .dataframe tbody tr th:only-of-type {\n",
       "        vertical-align: middle;\n",
       "    }\n",
       "\n",
       "    .dataframe tbody tr th {\n",
       "        vertical-align: top;\n",
       "    }\n",
       "\n",
       "    .dataframe thead th {\n",
       "        text-align: right;\n",
       "    }\n",
       "</style>\n",
       "<table border=\"1\" class=\"dataframe\">\n",
       "  <thead>\n",
       "    <tr style=\"text-align: right;\">\n",
       "      <th></th>\n",
       "      <th>Timestamp</th>\n",
       "      <th>First_Name</th>\n",
       "      <th>City</th>\n",
       "      <th>Last_Name</th>\n",
       "      <th>Class</th>\n",
       "    </tr>\n",
       "  </thead>\n",
       "  <tbody>\n",
       "    <tr>\n",
       "      <th>0</th>\n",
       "      <td>2020-07-28 16:46:31.177</td>\n",
       "      <td>Samrita</td>\n",
       "      <td>Raipur</td>\n",
       "      <td>NaN</td>\n",
       "      <td>Video Editing</td>\n",
       "    </tr>\n",
       "    <tr>\n",
       "      <th>1</th>\n",
       "      <td>2020-07-28 16:46:43.534</td>\n",
       "      <td>Khushi Tiwari</td>\n",
       "      <td>Gurgaon</td>\n",
       "      <td>NaN</td>\n",
       "      <td>Video Editing</td>\n",
       "    </tr>\n",
       "    <tr>\n",
       "      <th>2</th>\n",
       "      <td>2020-07-28 16:48:02.362</td>\n",
       "      <td>Shreya Biswas</td>\n",
       "      <td>Bhilai</td>\n",
       "      <td>NaN</td>\n",
       "      <td>Video Editing</td>\n",
       "    </tr>\n",
       "    <tr>\n",
       "      <th>3</th>\n",
       "      <td>2020-07-28 16:49:58.147</td>\n",
       "      <td>Hardik Patni</td>\n",
       "      <td>Pune</td>\n",
       "      <td>NaN</td>\n",
       "      <td>Video Editing</td>\n",
       "    </tr>\n",
       "    <tr>\n",
       "      <th>4</th>\n",
       "      <td>2020-07-28 16:50:17.182</td>\n",
       "      <td>Anhad Preet Singh</td>\n",
       "      <td>Chennai</td>\n",
       "      <td>NaN</td>\n",
       "      <td>Video Editing</td>\n",
       "    </tr>\n",
       "  </tbody>\n",
       "</table>\n",
       "</div>"
      ],
      "text/plain": [
       "                Timestamp         First_Name      City Last_Name  \\\n",
       "0 2020-07-28 16:46:31.177            Samrita    Raipur       NaN   \n",
       "1 2020-07-28 16:46:43.534     Khushi Tiwari   Gurgaon        NaN   \n",
       "2 2020-07-28 16:48:02.362      Shreya Biswas    Bhilai       NaN   \n",
       "3 2020-07-28 16:49:58.147       Hardik Patni      Pune       NaN   \n",
       "4 2020-07-28 16:50:17.182  Anhad Preet Singh   Chennai       NaN   \n",
       "\n",
       "           Class  \n",
       "0  Video Editing  \n",
       "1  Video Editing  \n",
       "2  Video Editing  \n",
       "3  Video Editing  \n",
       "4  Video Editing  "
      ]
     },
     "execution_count": 41,
     "metadata": {},
     "output_type": "execute_result"
    }
   ],
   "source": [
    "Class = ['Video Editing' for i in range(len(df7))]\n",
    "df7['Class'] = Class\n",
    "df7.head()"
   ]
  },
  {
   "cell_type": "code",
   "execution_count": 42,
   "metadata": {},
   "outputs": [],
   "source": [
    "df7['Name']= df7['First_Name'] + ' ' + df7['Last_Name']"
   ]
  },
  {
   "cell_type": "code",
   "execution_count": 43,
   "metadata": {},
   "outputs": [
    {
     "data": {
      "text/html": [
       "<div>\n",
       "<style scoped>\n",
       "    .dataframe tbody tr th:only-of-type {\n",
       "        vertical-align: middle;\n",
       "    }\n",
       "\n",
       "    .dataframe tbody tr th {\n",
       "        vertical-align: top;\n",
       "    }\n",
       "\n",
       "    .dataframe thead th {\n",
       "        text-align: right;\n",
       "    }\n",
       "</style>\n",
       "<table border=\"1\" class=\"dataframe\">\n",
       "  <thead>\n",
       "    <tr style=\"text-align: right;\">\n",
       "      <th></th>\n",
       "      <th>Timestamp</th>\n",
       "      <th>First_Name</th>\n",
       "      <th>City</th>\n",
       "      <th>Last_Name</th>\n",
       "      <th>Class</th>\n",
       "      <th>Name</th>\n",
       "    </tr>\n",
       "  </thead>\n",
       "  <tbody>\n",
       "    <tr>\n",
       "      <th>0</th>\n",
       "      <td>2020-07-28 16:46:31.177</td>\n",
       "      <td>Samrita</td>\n",
       "      <td>Raipur</td>\n",
       "      <td>NaN</td>\n",
       "      <td>Video Editing</td>\n",
       "      <td>NaN</td>\n",
       "    </tr>\n",
       "    <tr>\n",
       "      <th>1</th>\n",
       "      <td>2020-07-28 16:46:43.534</td>\n",
       "      <td>Khushi Tiwari</td>\n",
       "      <td>Gurgaon</td>\n",
       "      <td>NaN</td>\n",
       "      <td>Video Editing</td>\n",
       "      <td>NaN</td>\n",
       "    </tr>\n",
       "    <tr>\n",
       "      <th>2</th>\n",
       "      <td>2020-07-28 16:48:02.362</td>\n",
       "      <td>Shreya Biswas</td>\n",
       "      <td>Bhilai</td>\n",
       "      <td>NaN</td>\n",
       "      <td>Video Editing</td>\n",
       "      <td>NaN</td>\n",
       "    </tr>\n",
       "    <tr>\n",
       "      <th>3</th>\n",
       "      <td>2020-07-28 16:49:58.147</td>\n",
       "      <td>Hardik Patni</td>\n",
       "      <td>Pune</td>\n",
       "      <td>NaN</td>\n",
       "      <td>Video Editing</td>\n",
       "      <td>NaN</td>\n",
       "    </tr>\n",
       "    <tr>\n",
       "      <th>4</th>\n",
       "      <td>2020-07-28 16:50:17.182</td>\n",
       "      <td>Anhad Preet Singh</td>\n",
       "      <td>Chennai</td>\n",
       "      <td>NaN</td>\n",
       "      <td>Video Editing</td>\n",
       "      <td>NaN</td>\n",
       "    </tr>\n",
       "  </tbody>\n",
       "</table>\n",
       "</div>"
      ],
      "text/plain": [
       "                Timestamp         First_Name      City Last_Name  \\\n",
       "0 2020-07-28 16:46:31.177            Samrita    Raipur       NaN   \n",
       "1 2020-07-28 16:46:43.534     Khushi Tiwari   Gurgaon        NaN   \n",
       "2 2020-07-28 16:48:02.362      Shreya Biswas    Bhilai       NaN   \n",
       "3 2020-07-28 16:49:58.147       Hardik Patni      Pune       NaN   \n",
       "4 2020-07-28 16:50:17.182  Anhad Preet Singh   Chennai       NaN   \n",
       "\n",
       "           Class Name  \n",
       "0  Video Editing  NaN  \n",
       "1  Video Editing  NaN  \n",
       "2  Video Editing  NaN  \n",
       "3  Video Editing  NaN  \n",
       "4  Video Editing  NaN  "
      ]
     },
     "execution_count": 43,
     "metadata": {},
     "output_type": "execute_result"
    }
   ],
   "source": [
    "df7.head()"
   ]
  },
  {
   "cell_type": "code",
   "execution_count": 44,
   "metadata": {},
   "outputs": [
    {
     "name": "stdout",
     "output_type": "stream",
     "text": [
      "<class 'pandas.core.frame.DataFrame'>\n",
      "RangeIndex: 586 entries, 0 to 585\n",
      "Data columns (total 6 columns):\n",
      " #   Column      Non-Null Count  Dtype         \n",
      "---  ------      --------------  -----         \n",
      " 0   Timestamp   586 non-null    datetime64[ns]\n",
      " 1   First_Name  586 non-null    object        \n",
      " 2   City        586 non-null    object        \n",
      " 3   Last_Name   205 non-null    object        \n",
      " 4   Class       586 non-null    object        \n",
      " 5   Name        205 non-null    object        \n",
      "dtypes: datetime64[ns](1), object(5)\n",
      "memory usage: 27.6+ KB\n"
     ]
    }
   ],
   "source": [
    "df7.info()"
   ]
  },
  {
   "cell_type": "code",
   "execution_count": 45,
   "metadata": {},
   "outputs": [],
   "source": [
    "df7[\"Name\"] = df7[\"Name\"].fillna(df7[\"First_Name\"])"
   ]
  },
  {
   "cell_type": "code",
   "execution_count": 46,
   "metadata": {},
   "outputs": [
    {
     "data": {
      "text/html": [
       "<div>\n",
       "<style scoped>\n",
       "    .dataframe tbody tr th:only-of-type {\n",
       "        vertical-align: middle;\n",
       "    }\n",
       "\n",
       "    .dataframe tbody tr th {\n",
       "        vertical-align: top;\n",
       "    }\n",
       "\n",
       "    .dataframe thead th {\n",
       "        text-align: right;\n",
       "    }\n",
       "</style>\n",
       "<table border=\"1\" class=\"dataframe\">\n",
       "  <thead>\n",
       "    <tr style=\"text-align: right;\">\n",
       "      <th></th>\n",
       "      <th>Timestamp</th>\n",
       "      <th>First_Name</th>\n",
       "      <th>City</th>\n",
       "      <th>Last_Name</th>\n",
       "      <th>Class</th>\n",
       "      <th>Name</th>\n",
       "    </tr>\n",
       "  </thead>\n",
       "  <tbody>\n",
       "    <tr>\n",
       "      <th>0</th>\n",
       "      <td>2020-07-28 16:46:31.177</td>\n",
       "      <td>Samrita</td>\n",
       "      <td>Raipur</td>\n",
       "      <td>NaN</td>\n",
       "      <td>Video Editing</td>\n",
       "      <td>Samrita</td>\n",
       "    </tr>\n",
       "    <tr>\n",
       "      <th>1</th>\n",
       "      <td>2020-07-28 16:46:43.534</td>\n",
       "      <td>Khushi Tiwari</td>\n",
       "      <td>Gurgaon</td>\n",
       "      <td>NaN</td>\n",
       "      <td>Video Editing</td>\n",
       "      <td>Khushi Tiwari</td>\n",
       "    </tr>\n",
       "    <tr>\n",
       "      <th>2</th>\n",
       "      <td>2020-07-28 16:48:02.362</td>\n",
       "      <td>Shreya Biswas</td>\n",
       "      <td>Bhilai</td>\n",
       "      <td>NaN</td>\n",
       "      <td>Video Editing</td>\n",
       "      <td>Shreya Biswas</td>\n",
       "    </tr>\n",
       "    <tr>\n",
       "      <th>3</th>\n",
       "      <td>2020-07-28 16:49:58.147</td>\n",
       "      <td>Hardik Patni</td>\n",
       "      <td>Pune</td>\n",
       "      <td>NaN</td>\n",
       "      <td>Video Editing</td>\n",
       "      <td>Hardik Patni</td>\n",
       "    </tr>\n",
       "    <tr>\n",
       "      <th>4</th>\n",
       "      <td>2020-07-28 16:50:17.182</td>\n",
       "      <td>Anhad Preet Singh</td>\n",
       "      <td>Chennai</td>\n",
       "      <td>NaN</td>\n",
       "      <td>Video Editing</td>\n",
       "      <td>Anhad Preet Singh</td>\n",
       "    </tr>\n",
       "  </tbody>\n",
       "</table>\n",
       "</div>"
      ],
      "text/plain": [
       "                Timestamp         First_Name      City Last_Name  \\\n",
       "0 2020-07-28 16:46:31.177            Samrita    Raipur       NaN   \n",
       "1 2020-07-28 16:46:43.534     Khushi Tiwari   Gurgaon        NaN   \n",
       "2 2020-07-28 16:48:02.362      Shreya Biswas    Bhilai       NaN   \n",
       "3 2020-07-28 16:49:58.147       Hardik Patni      Pune       NaN   \n",
       "4 2020-07-28 16:50:17.182  Anhad Preet Singh   Chennai       NaN   \n",
       "\n",
       "           Class               Name  \n",
       "0  Video Editing            Samrita  \n",
       "1  Video Editing     Khushi Tiwari   \n",
       "2  Video Editing      Shreya Biswas  \n",
       "3  Video Editing       Hardik Patni  \n",
       "4  Video Editing  Anhad Preet Singh  "
      ]
     },
     "execution_count": 46,
     "metadata": {},
     "output_type": "execute_result"
    }
   ],
   "source": [
    "df7.head()"
   ]
  },
  {
   "cell_type": "code",
   "execution_count": 47,
   "metadata": {},
   "outputs": [],
   "source": [
    "df7.drop(['First_Name','Last_Name'], axis = 1, inplace=True) "
   ]
  },
  {
   "cell_type": "code",
   "execution_count": 48,
   "metadata": {},
   "outputs": [
    {
     "data": {
      "text/html": [
       "<div>\n",
       "<style scoped>\n",
       "    .dataframe tbody tr th:only-of-type {\n",
       "        vertical-align: middle;\n",
       "    }\n",
       "\n",
       "    .dataframe tbody tr th {\n",
       "        vertical-align: top;\n",
       "    }\n",
       "\n",
       "    .dataframe thead th {\n",
       "        text-align: right;\n",
       "    }\n",
       "</style>\n",
       "<table border=\"1\" class=\"dataframe\">\n",
       "  <thead>\n",
       "    <tr style=\"text-align: right;\">\n",
       "      <th></th>\n",
       "      <th>Timestamp</th>\n",
       "      <th>City</th>\n",
       "      <th>Class</th>\n",
       "      <th>Name</th>\n",
       "    </tr>\n",
       "  </thead>\n",
       "  <tbody>\n",
       "    <tr>\n",
       "      <th>0</th>\n",
       "      <td>2020-07-28 16:46:31.177</td>\n",
       "      <td>Raipur</td>\n",
       "      <td>Video Editing</td>\n",
       "      <td>Samrita</td>\n",
       "    </tr>\n",
       "    <tr>\n",
       "      <th>1</th>\n",
       "      <td>2020-07-28 16:46:43.534</td>\n",
       "      <td>Gurgaon</td>\n",
       "      <td>Video Editing</td>\n",
       "      <td>Khushi Tiwari</td>\n",
       "    </tr>\n",
       "    <tr>\n",
       "      <th>2</th>\n",
       "      <td>2020-07-28 16:48:02.362</td>\n",
       "      <td>Bhilai</td>\n",
       "      <td>Video Editing</td>\n",
       "      <td>Shreya Biswas</td>\n",
       "    </tr>\n",
       "    <tr>\n",
       "      <th>3</th>\n",
       "      <td>2020-07-28 16:49:58.147</td>\n",
       "      <td>Pune</td>\n",
       "      <td>Video Editing</td>\n",
       "      <td>Hardik Patni</td>\n",
       "    </tr>\n",
       "    <tr>\n",
       "      <th>4</th>\n",
       "      <td>2020-07-28 16:50:17.182</td>\n",
       "      <td>Chennai</td>\n",
       "      <td>Video Editing</td>\n",
       "      <td>Anhad Preet Singh</td>\n",
       "    </tr>\n",
       "  </tbody>\n",
       "</table>\n",
       "</div>"
      ],
      "text/plain": [
       "                Timestamp      City          Class               Name\n",
       "0 2020-07-28 16:46:31.177    Raipur  Video Editing            Samrita\n",
       "1 2020-07-28 16:46:43.534  Gurgaon   Video Editing     Khushi Tiwari \n",
       "2 2020-07-28 16:48:02.362    Bhilai  Video Editing      Shreya Biswas\n",
       "3 2020-07-28 16:49:58.147      Pune  Video Editing       Hardik Patni\n",
       "4 2020-07-28 16:50:17.182   Chennai  Video Editing  Anhad Preet Singh"
      ]
     },
     "execution_count": 48,
     "metadata": {},
     "output_type": "execute_result"
    }
   ],
   "source": [
    "df7.head()"
   ]
  },
  {
   "cell_type": "code",
   "execution_count": 49,
   "metadata": {},
   "outputs": [],
   "source": [
    "cols=df7.columns.tolist()"
   ]
  },
  {
   "cell_type": "code",
   "execution_count": 50,
   "metadata": {},
   "outputs": [
    {
     "data": {
      "text/plain": [
       "['Timestamp', 'City', 'Name', 'Class']"
      ]
     },
     "execution_count": 50,
     "metadata": {},
     "output_type": "execute_result"
    }
   ],
   "source": [
    "cols[2],cols[3]=cols[3],cols[2]\n",
    "cols"
   ]
  },
  {
   "cell_type": "code",
   "execution_count": 51,
   "metadata": {},
   "outputs": [
    {
     "data": {
      "text/html": [
       "<div>\n",
       "<style scoped>\n",
       "    .dataframe tbody tr th:only-of-type {\n",
       "        vertical-align: middle;\n",
       "    }\n",
       "\n",
       "    .dataframe tbody tr th {\n",
       "        vertical-align: top;\n",
       "    }\n",
       "\n",
       "    .dataframe thead th {\n",
       "        text-align: right;\n",
       "    }\n",
       "</style>\n",
       "<table border=\"1\" class=\"dataframe\">\n",
       "  <thead>\n",
       "    <tr style=\"text-align: right;\">\n",
       "      <th></th>\n",
       "      <th>Timestamp</th>\n",
       "      <th>City</th>\n",
       "      <th>Name</th>\n",
       "      <th>Class</th>\n",
       "    </tr>\n",
       "  </thead>\n",
       "  <tbody>\n",
       "    <tr>\n",
       "      <th>0</th>\n",
       "      <td>2020-07-28 16:46:31.177</td>\n",
       "      <td>Raipur</td>\n",
       "      <td>Samrita</td>\n",
       "      <td>Video Editing</td>\n",
       "    </tr>\n",
       "    <tr>\n",
       "      <th>1</th>\n",
       "      <td>2020-07-28 16:46:43.534</td>\n",
       "      <td>Gurgaon</td>\n",
       "      <td>Khushi Tiwari</td>\n",
       "      <td>Video Editing</td>\n",
       "    </tr>\n",
       "    <tr>\n",
       "      <th>2</th>\n",
       "      <td>2020-07-28 16:48:02.362</td>\n",
       "      <td>Bhilai</td>\n",
       "      <td>Shreya Biswas</td>\n",
       "      <td>Video Editing</td>\n",
       "    </tr>\n",
       "    <tr>\n",
       "      <th>3</th>\n",
       "      <td>2020-07-28 16:49:58.147</td>\n",
       "      <td>Pune</td>\n",
       "      <td>Hardik Patni</td>\n",
       "      <td>Video Editing</td>\n",
       "    </tr>\n",
       "    <tr>\n",
       "      <th>4</th>\n",
       "      <td>2020-07-28 16:50:17.182</td>\n",
       "      <td>Chennai</td>\n",
       "      <td>Anhad Preet Singh</td>\n",
       "      <td>Video Editing</td>\n",
       "    </tr>\n",
       "  </tbody>\n",
       "</table>\n",
       "</div>"
      ],
      "text/plain": [
       "                Timestamp      City               Name          Class\n",
       "0 2020-07-28 16:46:31.177    Raipur            Samrita  Video Editing\n",
       "1 2020-07-28 16:46:43.534  Gurgaon      Khushi Tiwari   Video Editing\n",
       "2 2020-07-28 16:48:02.362    Bhilai      Shreya Biswas  Video Editing\n",
       "3 2020-07-28 16:49:58.147      Pune       Hardik Patni  Video Editing\n",
       "4 2020-07-28 16:50:17.182   Chennai  Anhad Preet Singh  Video Editing"
      ]
     },
     "execution_count": 51,
     "metadata": {},
     "output_type": "execute_result"
    }
   ],
   "source": [
    "df7=df7[cols]\n",
    "df7.head()"
   ]
  },
  {
   "cell_type": "code",
   "execution_count": 52,
   "metadata": {},
   "outputs": [],
   "source": [
    "All_df=[df1,df2,df3,df4,df5,df6,df7]"
   ]
  },
  {
   "cell_type": "code",
   "execution_count": 53,
   "metadata": {},
   "outputs": [],
   "source": [
    "df=pd.concat(All_df)"
   ]
  },
  {
   "cell_type": "code",
   "execution_count": 54,
   "metadata": {},
   "outputs": [
    {
     "data": {
      "text/html": [
       "<div>\n",
       "<style scoped>\n",
       "    .dataframe tbody tr th:only-of-type {\n",
       "        vertical-align: middle;\n",
       "    }\n",
       "\n",
       "    .dataframe tbody tr th {\n",
       "        vertical-align: top;\n",
       "    }\n",
       "\n",
       "    .dataframe thead th {\n",
       "        text-align: right;\n",
       "    }\n",
       "</style>\n",
       "<table border=\"1\" class=\"dataframe\">\n",
       "  <thead>\n",
       "    <tr style=\"text-align: right;\">\n",
       "      <th></th>\n",
       "      <th>Timestamp</th>\n",
       "      <th>City</th>\n",
       "      <th>Name</th>\n",
       "      <th>Class</th>\n",
       "    </tr>\n",
       "  </thead>\n",
       "  <tbody>\n",
       "    <tr>\n",
       "      <th>0</th>\n",
       "      <td>2020-09-28 00:10:58.066</td>\n",
       "      <td>Moradabad</td>\n",
       "      <td>Pranshu  Bhatnagar</td>\n",
       "      <td>Excel</td>\n",
       "    </tr>\n",
       "    <tr>\n",
       "      <th>1</th>\n",
       "      <td>2020-09-28 07:17:13.080</td>\n",
       "      <td>Delhi</td>\n",
       "      <td>Kumari Garima</td>\n",
       "      <td>Excel</td>\n",
       "    </tr>\n",
       "    <tr>\n",
       "      <th>2</th>\n",
       "      <td>2020-09-28 09:12:18.512</td>\n",
       "      <td>ELURU</td>\n",
       "      <td>Damarakeswar  Guddanti</td>\n",
       "      <td>Excel</td>\n",
       "    </tr>\n",
       "    <tr>\n",
       "      <th>3</th>\n",
       "      <td>2020-09-28 09:41:07.900</td>\n",
       "      <td>Bangalore</td>\n",
       "      <td>Manish Bharti</td>\n",
       "      <td>Excel</td>\n",
       "    </tr>\n",
       "    <tr>\n",
       "      <th>4</th>\n",
       "      <td>2020-09-28 10:59:00.443</td>\n",
       "      <td>Pune</td>\n",
       "      <td>Rakesh Tripathi</td>\n",
       "      <td>Excel</td>\n",
       "    </tr>\n",
       "    <tr>\n",
       "      <th>...</th>\n",
       "      <td>...</td>\n",
       "      <td>...</td>\n",
       "      <td>...</td>\n",
       "      <td>...</td>\n",
       "    </tr>\n",
       "    <tr>\n",
       "      <th>581</th>\n",
       "      <td>2020-08-02 14:05:45.856</td>\n",
       "      <td>Pune</td>\n",
       "      <td>Kalyani Jha</td>\n",
       "      <td>Video Editing</td>\n",
       "    </tr>\n",
       "    <tr>\n",
       "      <th>582</th>\n",
       "      <td>2020-08-02 20:13:55.905</td>\n",
       "      <td>Kondapalli</td>\n",
       "      <td>Prathyusha  Vangaveeti</td>\n",
       "      <td>Video Editing</td>\n",
       "    </tr>\n",
       "    <tr>\n",
       "      <th>583</th>\n",
       "      <td>2020-08-04 01:22:17.969</td>\n",
       "      <td>Pune</td>\n",
       "      <td>Munnawar  Nagarbawadi</td>\n",
       "      <td>Video Editing</td>\n",
       "    </tr>\n",
       "    <tr>\n",
       "      <th>584</th>\n",
       "      <td>2020-08-04 08:51:10.272</td>\n",
       "      <td>Guwahati</td>\n",
       "      <td>Souvik das</td>\n",
       "      <td>Video Editing</td>\n",
       "    </tr>\n",
       "    <tr>\n",
       "      <th>585</th>\n",
       "      <td>2020-09-11 19:01:30.905</td>\n",
       "      <td>Pune</td>\n",
       "      <td>Manan Sanghnai</td>\n",
       "      <td>Video Editing</td>\n",
       "    </tr>\n",
       "  </tbody>\n",
       "</table>\n",
       "<p>2960 rows × 4 columns</p>\n",
       "</div>"
      ],
      "text/plain": [
       "                  Timestamp        City                     Name  \\\n",
       "0   2020-09-28 00:10:58.066   Moradabad       Pranshu  Bhatnagar   \n",
       "1   2020-09-28 07:17:13.080       Delhi            Kumari Garima   \n",
       "2   2020-09-28 09:12:18.512       ELURU   Damarakeswar  Guddanti   \n",
       "3   2020-09-28 09:41:07.900   Bangalore            Manish Bharti   \n",
       "4   2020-09-28 10:59:00.443        Pune          Rakesh Tripathi   \n",
       "..                      ...         ...                      ...   \n",
       "581 2020-08-02 14:05:45.856        Pune              Kalyani Jha   \n",
       "582 2020-08-02 20:13:55.905  Kondapalli  Prathyusha  Vangaveeti    \n",
       "583 2020-08-04 01:22:17.969        Pune   Munnawar  Nagarbawadi    \n",
       "584 2020-08-04 08:51:10.272    Guwahati               Souvik das   \n",
       "585 2020-09-11 19:01:30.905        Pune           Manan Sanghnai   \n",
       "\n",
       "             Class  \n",
       "0            Excel  \n",
       "1            Excel  \n",
       "2            Excel  \n",
       "3            Excel  \n",
       "4            Excel  \n",
       "..             ...  \n",
       "581  Video Editing  \n",
       "582  Video Editing  \n",
       "583  Video Editing  \n",
       "584  Video Editing  \n",
       "585  Video Editing  \n",
       "\n",
       "[2960 rows x 4 columns]"
      ]
     },
     "execution_count": 54,
     "metadata": {},
     "output_type": "execute_result"
    }
   ],
   "source": [
    "df"
   ]
  },
  {
   "cell_type": "code",
   "execution_count": 55,
   "metadata": {},
   "outputs": [],
   "source": [
    "df['City']=df['City'].str.upper()"
   ]
  },
  {
   "cell_type": "code",
   "execution_count": 56,
   "metadata": {},
   "outputs": [
    {
     "data": {
      "text/html": [
       "<div>\n",
       "<style scoped>\n",
       "    .dataframe tbody tr th:only-of-type {\n",
       "        vertical-align: middle;\n",
       "    }\n",
       "\n",
       "    .dataframe tbody tr th {\n",
       "        vertical-align: top;\n",
       "    }\n",
       "\n",
       "    .dataframe thead th {\n",
       "        text-align: right;\n",
       "    }\n",
       "</style>\n",
       "<table border=\"1\" class=\"dataframe\">\n",
       "  <thead>\n",
       "    <tr style=\"text-align: right;\">\n",
       "      <th></th>\n",
       "      <th>Timestamp</th>\n",
       "      <th>City</th>\n",
       "      <th>Name</th>\n",
       "      <th>Class</th>\n",
       "    </tr>\n",
       "  </thead>\n",
       "  <tbody>\n",
       "    <tr>\n",
       "      <th>0</th>\n",
       "      <td>2020-09-28 00:10:58.066</td>\n",
       "      <td>MORADABAD</td>\n",
       "      <td>Pranshu  Bhatnagar</td>\n",
       "      <td>Excel</td>\n",
       "    </tr>\n",
       "    <tr>\n",
       "      <th>1</th>\n",
       "      <td>2020-09-28 07:17:13.080</td>\n",
       "      <td>DELHI</td>\n",
       "      <td>Kumari Garima</td>\n",
       "      <td>Excel</td>\n",
       "    </tr>\n",
       "    <tr>\n",
       "      <th>2</th>\n",
       "      <td>2020-09-28 09:12:18.512</td>\n",
       "      <td>ELURU</td>\n",
       "      <td>Damarakeswar  Guddanti</td>\n",
       "      <td>Excel</td>\n",
       "    </tr>\n",
       "    <tr>\n",
       "      <th>3</th>\n",
       "      <td>2020-09-28 09:41:07.900</td>\n",
       "      <td>BANGALORE</td>\n",
       "      <td>Manish Bharti</td>\n",
       "      <td>Excel</td>\n",
       "    </tr>\n",
       "    <tr>\n",
       "      <th>4</th>\n",
       "      <td>2020-09-28 10:59:00.443</td>\n",
       "      <td>PUNE</td>\n",
       "      <td>Rakesh Tripathi</td>\n",
       "      <td>Excel</td>\n",
       "    </tr>\n",
       "  </tbody>\n",
       "</table>\n",
       "</div>"
      ],
      "text/plain": [
       "                Timestamp       City                    Name  Class\n",
       "0 2020-09-28 00:10:58.066  MORADABAD      Pranshu  Bhatnagar  Excel\n",
       "1 2020-09-28 07:17:13.080      DELHI           Kumari Garima  Excel\n",
       "2 2020-09-28 09:12:18.512      ELURU  Damarakeswar  Guddanti  Excel\n",
       "3 2020-09-28 09:41:07.900  BANGALORE           Manish Bharti  Excel\n",
       "4 2020-09-28 10:59:00.443       PUNE         Rakesh Tripathi  Excel"
      ]
     },
     "execution_count": 56,
     "metadata": {},
     "output_type": "execute_result"
    }
   ],
   "source": [
    "df.head()"
   ]
  },
  {
   "cell_type": "code",
   "execution_count": 57,
   "metadata": {},
   "outputs": [],
   "source": [
    "col=df.columns.tolist()"
   ]
  },
  {
   "cell_type": "code",
   "execution_count": 58,
   "metadata": {},
   "outputs": [],
   "source": [
    "col[1],col[2]=col[2],col[1]"
   ]
  },
  {
   "cell_type": "code",
   "execution_count": 59,
   "metadata": {
    "scrolled": true
   },
   "outputs": [
    {
     "data": {
      "text/html": [
       "<div>\n",
       "<style scoped>\n",
       "    .dataframe tbody tr th:only-of-type {\n",
       "        vertical-align: middle;\n",
       "    }\n",
       "\n",
       "    .dataframe tbody tr th {\n",
       "        vertical-align: top;\n",
       "    }\n",
       "\n",
       "    .dataframe thead th {\n",
       "        text-align: right;\n",
       "    }\n",
       "</style>\n",
       "<table border=\"1\" class=\"dataframe\">\n",
       "  <thead>\n",
       "    <tr style=\"text-align: right;\">\n",
       "      <th></th>\n",
       "      <th>Timestamp</th>\n",
       "      <th>Name</th>\n",
       "      <th>City</th>\n",
       "      <th>Class</th>\n",
       "    </tr>\n",
       "  </thead>\n",
       "  <tbody>\n",
       "    <tr>\n",
       "      <th>0</th>\n",
       "      <td>2020-09-28 00:10:58.066</td>\n",
       "      <td>Pranshu  Bhatnagar</td>\n",
       "      <td>MORADABAD</td>\n",
       "      <td>Excel</td>\n",
       "    </tr>\n",
       "    <tr>\n",
       "      <th>1</th>\n",
       "      <td>2020-09-28 07:17:13.080</td>\n",
       "      <td>Kumari Garima</td>\n",
       "      <td>DELHI</td>\n",
       "      <td>Excel</td>\n",
       "    </tr>\n",
       "    <tr>\n",
       "      <th>2</th>\n",
       "      <td>2020-09-28 09:12:18.512</td>\n",
       "      <td>Damarakeswar  Guddanti</td>\n",
       "      <td>ELURU</td>\n",
       "      <td>Excel</td>\n",
       "    </tr>\n",
       "    <tr>\n",
       "      <th>3</th>\n",
       "      <td>2020-09-28 09:41:07.900</td>\n",
       "      <td>Manish Bharti</td>\n",
       "      <td>BANGALORE</td>\n",
       "      <td>Excel</td>\n",
       "    </tr>\n",
       "    <tr>\n",
       "      <th>4</th>\n",
       "      <td>2020-09-28 10:59:00.443</td>\n",
       "      <td>Rakesh Tripathi</td>\n",
       "      <td>PUNE</td>\n",
       "      <td>Excel</td>\n",
       "    </tr>\n",
       "  </tbody>\n",
       "</table>\n",
       "</div>"
      ],
      "text/plain": [
       "                Timestamp                    Name       City  Class\n",
       "0 2020-09-28 00:10:58.066      Pranshu  Bhatnagar  MORADABAD  Excel\n",
       "1 2020-09-28 07:17:13.080           Kumari Garima      DELHI  Excel\n",
       "2 2020-09-28 09:12:18.512  Damarakeswar  Guddanti      ELURU  Excel\n",
       "3 2020-09-28 09:41:07.900           Manish Bharti  BANGALORE  Excel\n",
       "4 2020-09-28 10:59:00.443         Rakesh Tripathi       PUNE  Excel"
      ]
     },
     "execution_count": 59,
     "metadata": {},
     "output_type": "execute_result"
    }
   ],
   "source": [
    "df=df[col]\n",
    "df.head()"
   ]
  },
  {
   "cell_type": "code",
   "execution_count": 60,
   "metadata": {},
   "outputs": [
    {
     "name": "stderr",
     "output_type": "stream",
     "text": [
      "<ipython-input-60-360b569fc91e>:1: SettingWithCopyWarning: \n",
      "A value is trying to be set on a copy of a slice from a DataFrame.\n",
      "Try using .loc[row_indexer,col_indexer] = value instead\n",
      "\n",
      "See the caveats in the documentation: https://pandas.pydata.org/pandas-docs/stable/user_guide/indexing.html#returning-a-view-versus-a-copy\n",
      "  df['Date'] = df['Timestamp'].dt.date\n"
     ]
    }
   ],
   "source": [
    "df['Date'] = df['Timestamp'].dt.date"
   ]
  },
  {
   "cell_type": "code",
   "execution_count": 61,
   "metadata": {},
   "outputs": [
    {
     "data": {
      "text/html": [
       "<div>\n",
       "<style scoped>\n",
       "    .dataframe tbody tr th:only-of-type {\n",
       "        vertical-align: middle;\n",
       "    }\n",
       "\n",
       "    .dataframe tbody tr th {\n",
       "        vertical-align: top;\n",
       "    }\n",
       "\n",
       "    .dataframe thead th {\n",
       "        text-align: right;\n",
       "    }\n",
       "</style>\n",
       "<table border=\"1\" class=\"dataframe\">\n",
       "  <thead>\n",
       "    <tr style=\"text-align: right;\">\n",
       "      <th></th>\n",
       "      <th>Timestamp</th>\n",
       "      <th>Name</th>\n",
       "      <th>City</th>\n",
       "      <th>Class</th>\n",
       "      <th>Date</th>\n",
       "    </tr>\n",
       "  </thead>\n",
       "  <tbody>\n",
       "    <tr>\n",
       "      <th>0</th>\n",
       "      <td>2020-09-28 00:10:58.066</td>\n",
       "      <td>Pranshu  Bhatnagar</td>\n",
       "      <td>MORADABAD</td>\n",
       "      <td>Excel</td>\n",
       "      <td>2020-09-28</td>\n",
       "    </tr>\n",
       "    <tr>\n",
       "      <th>1</th>\n",
       "      <td>2020-09-28 07:17:13.080</td>\n",
       "      <td>Kumari Garima</td>\n",
       "      <td>DELHI</td>\n",
       "      <td>Excel</td>\n",
       "      <td>2020-09-28</td>\n",
       "    </tr>\n",
       "    <tr>\n",
       "      <th>2</th>\n",
       "      <td>2020-09-28 09:12:18.512</td>\n",
       "      <td>Damarakeswar  Guddanti</td>\n",
       "      <td>ELURU</td>\n",
       "      <td>Excel</td>\n",
       "      <td>2020-09-28</td>\n",
       "    </tr>\n",
       "    <tr>\n",
       "      <th>3</th>\n",
       "      <td>2020-09-28 09:41:07.900</td>\n",
       "      <td>Manish Bharti</td>\n",
       "      <td>BANGALORE</td>\n",
       "      <td>Excel</td>\n",
       "      <td>2020-09-28</td>\n",
       "    </tr>\n",
       "    <tr>\n",
       "      <th>4</th>\n",
       "      <td>2020-09-28 10:59:00.443</td>\n",
       "      <td>Rakesh Tripathi</td>\n",
       "      <td>PUNE</td>\n",
       "      <td>Excel</td>\n",
       "      <td>2020-09-28</td>\n",
       "    </tr>\n",
       "  </tbody>\n",
       "</table>\n",
       "</div>"
      ],
      "text/plain": [
       "                Timestamp                    Name       City  Class  \\\n",
       "0 2020-09-28 00:10:58.066      Pranshu  Bhatnagar  MORADABAD  Excel   \n",
       "1 2020-09-28 07:17:13.080           Kumari Garima      DELHI  Excel   \n",
       "2 2020-09-28 09:12:18.512  Damarakeswar  Guddanti      ELURU  Excel   \n",
       "3 2020-09-28 09:41:07.900           Manish Bharti  BANGALORE  Excel   \n",
       "4 2020-09-28 10:59:00.443         Rakesh Tripathi       PUNE  Excel   \n",
       "\n",
       "         Date  \n",
       "0  2020-09-28  \n",
       "1  2020-09-28  \n",
       "2  2020-09-28  \n",
       "3  2020-09-28  \n",
       "4  2020-09-28  "
      ]
     },
     "execution_count": 61,
     "metadata": {},
     "output_type": "execute_result"
    }
   ],
   "source": [
    "df.head()"
   ]
  },
  {
   "cell_type": "code",
   "execution_count": 62,
   "metadata": {},
   "outputs": [],
   "source": [
    "col=df.columns.tolist()"
   ]
  },
  {
   "cell_type": "code",
   "execution_count": 63,
   "metadata": {},
   "outputs": [],
   "source": [
    "col[0],col[4]=col[4],col[0]"
   ]
  },
  {
   "cell_type": "code",
   "execution_count": 64,
   "metadata": {},
   "outputs": [],
   "source": [
    "df=df[col]\n",
    "df.drop('Timestamp', axis = 1, inplace=True) "
   ]
  },
  {
   "cell_type": "code",
   "execution_count": 65,
   "metadata": {},
   "outputs": [
    {
     "data": {
      "text/html": [
       "<div>\n",
       "<style scoped>\n",
       "    .dataframe tbody tr th:only-of-type {\n",
       "        vertical-align: middle;\n",
       "    }\n",
       "\n",
       "    .dataframe tbody tr th {\n",
       "        vertical-align: top;\n",
       "    }\n",
       "\n",
       "    .dataframe thead th {\n",
       "        text-align: right;\n",
       "    }\n",
       "</style>\n",
       "<table border=\"1\" class=\"dataframe\">\n",
       "  <thead>\n",
       "    <tr style=\"text-align: right;\">\n",
       "      <th></th>\n",
       "      <th>Date</th>\n",
       "      <th>Name</th>\n",
       "      <th>City</th>\n",
       "      <th>Class</th>\n",
       "    </tr>\n",
       "  </thead>\n",
       "  <tbody>\n",
       "    <tr>\n",
       "      <th>0</th>\n",
       "      <td>2020-09-28</td>\n",
       "      <td>Pranshu  Bhatnagar</td>\n",
       "      <td>MORADABAD</td>\n",
       "      <td>Excel</td>\n",
       "    </tr>\n",
       "    <tr>\n",
       "      <th>1</th>\n",
       "      <td>2020-09-28</td>\n",
       "      <td>Kumari Garima</td>\n",
       "      <td>DELHI</td>\n",
       "      <td>Excel</td>\n",
       "    </tr>\n",
       "    <tr>\n",
       "      <th>2</th>\n",
       "      <td>2020-09-28</td>\n",
       "      <td>Damarakeswar  Guddanti</td>\n",
       "      <td>ELURU</td>\n",
       "      <td>Excel</td>\n",
       "    </tr>\n",
       "    <tr>\n",
       "      <th>3</th>\n",
       "      <td>2020-09-28</td>\n",
       "      <td>Manish Bharti</td>\n",
       "      <td>BANGALORE</td>\n",
       "      <td>Excel</td>\n",
       "    </tr>\n",
       "    <tr>\n",
       "      <th>4</th>\n",
       "      <td>2020-09-28</td>\n",
       "      <td>Rakesh Tripathi</td>\n",
       "      <td>PUNE</td>\n",
       "      <td>Excel</td>\n",
       "    </tr>\n",
       "  </tbody>\n",
       "</table>\n",
       "</div>"
      ],
      "text/plain": [
       "         Date                    Name       City  Class\n",
       "0  2020-09-28      Pranshu  Bhatnagar  MORADABAD  Excel\n",
       "1  2020-09-28           Kumari Garima      DELHI  Excel\n",
       "2  2020-09-28  Damarakeswar  Guddanti      ELURU  Excel\n",
       "3  2020-09-28           Manish Bharti  BANGALORE  Excel\n",
       "4  2020-09-28         Rakesh Tripathi       PUNE  Excel"
      ]
     },
     "execution_count": 65,
     "metadata": {},
     "output_type": "execute_result"
    }
   ],
   "source": [
    "df.head()"
   ]
  },
  {
   "cell_type": "code",
   "execution_count": 66,
   "metadata": {},
   "outputs": [
    {
     "data": {
      "text/plain": [
       "PUNE                            424\n",
       "MUMBAI                          193\n",
       "DELHI                           147\n",
       "NEW DELHI                       117\n",
       "BANGALORE                        93\n",
       "                               ... \n",
       "CLUJ-NAPOCA                       1\n",
       "SOLAPUR                           1\n",
       "LAS PIÑAS CITY, METRO MANILA      1\n",
       "KOSI                              1\n",
       "THIRUVALLA                        1\n",
       "Name: City, Length: 740, dtype: int64"
      ]
     },
     "execution_count": 66,
     "metadata": {},
     "output_type": "execute_result"
    }
   ],
   "source": [
    "df[\"City\"].value_counts()"
   ]
  },
  {
   "cell_type": "code",
   "execution_count": 67,
   "metadata": {},
   "outputs": [],
   "source": [
    "df['City']=df['City'].replace([','], ' ', regex=True)"
   ]
  },
  {
   "cell_type": "code",
   "execution_count": 68,
   "metadata": {},
   "outputs": [],
   "source": [
    "df['City']=df['City'].replace(['-','/','CITY'], '', regex=True)"
   ]
  },
  {
   "cell_type": "code",
   "execution_count": 69,
   "metadata": {},
   "outputs": [],
   "source": [
    "df['City']=df['City'].str.replace(r\"\\(.*\\)\",\"\")"
   ]
  },
  {
   "cell_type": "code",
   "execution_count": 70,
   "metadata": {},
   "outputs": [],
   "source": [
    "df['City']=df['City'].str.strip()"
   ]
  },
  {
   "cell_type": "code",
   "execution_count": 71,
   "metadata": {},
   "outputs": [],
   "source": [
    "df['City']=df['City'].str.replace('\\d+', '')"
   ]
  },
  {
   "cell_type": "code",
   "execution_count": 72,
   "metadata": {},
   "outputs": [],
   "source": [
    "df['City']=df['City'].replace('NEW DELHI', 'DELHI', regex=True)"
   ]
  },
  {
   "cell_type": "code",
   "execution_count": 73,
   "metadata": {},
   "outputs": [],
   "source": [
    "df['City']=df['City'].replace('DELHI', 'NEW DELHI', regex=True)"
   ]
  },
  {
   "cell_type": "code",
   "execution_count": 74,
   "metadata": {
    "scrolled": true
   },
   "outputs": [
    {
     "data": {
      "text/plain": [
       "array(['MORADABAD', 'NEW DELHI', 'ELURU', 'BANGALORE', 'PUNE',\n",
       "       'SONEBHADRA', 'BHUBANESWAR', 'MUMBAI', 'SILCHAR', 'GURUGRAM',\n",
       "       'FARIDABAD', 'BANGALORE SOUTH', 'BILASPUR', 'GOREGAON W  MUMBAI',\n",
       "       'NEAR DIKSHANT INTERNATIONAL SCHOOL', 'TINSUKIA', 'NOIDA',\n",
       "       'HYDERABAD', 'RANCHI', 'TUMKUR', 'UDAIPUR', 'GADARPUR', 'GUWAHATI',\n",
       "       'SHAHADA', 'KASARAGOD', 'DURG', 'MOHALI', 'KOLKATA', 'KANPUR',\n",
       "       'HISAR', 'NASHIK', 'AHMEDABAD', 'LUCKNOW', 'GHAZIABAD', 'PATNA',\n",
       "       'MEERUT', 'ACCRA', 'TEMA', 'JALGAON', 'MALAPPURAM',\n",
       "       'HISAR  HARYANA', 'GANGTOK', 'COOCHBIHAR', 'BIDAR', 'AMRITSAR',\n",
       "       'MALOUT PUNJAB', 'GREATER NOIDA', 'VADODARA', 'SAHARANPUR',\n",
       "       'KURUKSETHRA', 'SELANGOR', 'BENGALURU', 'INDORE',\n",
       "       'DHARAMSHALA  HIMACHAL PRADESH.', 'TRIVANDRUM', 'WAI',\n",
       "       'NAVI MUMBAI  ', 'RAIPUR', 'ANKOLA', 'MUDIPU', 'VISAKHAPATNAM',\n",
       "       'MYSORE', 'GREATER NOIDA WEST', 'BODHAN', 'ANAND', 'THANE',\n",
       "       'PUTTUR', 'DEWAS  MP', 'MADURAI  TAMIL NADU  INDIA',\n",
       "       'ALIGARH  U.P.', 'CHENNAI', 'BHIWANDI', 'VIJAYAPUR',\n",
       "       'NORTH WEST NEW DELHI', 'CHENGANNUR', 'DEHRADUN',\n",
       "       'MUMBAI SUBURBAN', 'HARIDWAR', 'GURGAON', 'GAYA', 'KARNAL',\n",
       "       'JAIPUR', 'AURANGABAD', 'GOALPARA', 'RATLAM', 'VALSAD',\n",
       "       'MANDALUYONG', 'JAMMU', 'NIZAMABAD', 'KATHUA', 'DEWAS', 'BINGABON',\n",
       "       'SAN JOSE DEL MONTE', 'KOHIMA', 'GWALIOR', 'BUXAR', 'GUNTUR',\n",
       "       'KOLHAPUR', 'QUEZON', 'ACCRA  GHANA', 'KURUKSHETRA', 'MANDSAUR',\n",
       "       'PASAY', 'MANILA PHILIPPINES', 'ARA', 'CALOOCAN', 'MARAMAG',\n",
       "       'AURAIYA UTTAR PRADESH', 'KALABURAGI', 'MADINA',\n",
       "       'LAS PIÑAS   METRO MANILA', 'BEED', 'WEST GODAVARI', 'MALEGAON',\n",
       "       'NAVI MUMBAI', 'VISHAKHAPATTANAM', 'DHAKA', 'CHANDIGARH',\n",
       "       'KHATIMA', 'SUCHITRA', 'CAINTA RIZAL', 'NAVI MUMBAI  NEW PANVEL',\n",
       "       'CAVITE', 'BHUSAWAL', 'BUSTOS BULACAN', 'ILOILO', 'PALAMPUR',\n",
       "       'ERNAKULAM', 'SILANG', 'MUKTESHWAR', 'FREDERICK', 'COIMBATORE',\n",
       "       'BHOPAL', 'RIYADH', 'BACOLOD', 'NAGPUR', 'MELBOURNE', 'PANIPAT',\n",
       "       'GENERAL TRIAS', 'DASMARIÑAS', 'PHILIPPINES', 'ZARIA', 'HARARE',\n",
       "       'BURHANPUR', 'MALÉ', 'KAKINADA', 'MALÉ  MALDIVES', 'SANGAREDDY',\n",
       "       'LATUR', 'ISTANBUL  TURKEY', 'MANCHER  PUNE', 'JORHAT  ASSAM',\n",
       "       'LAGOS', 'PRETORIA', 'GOKUL VIHAR MORADABAD', 'CAGAYAN DE ORO',\n",
       "       'JAKARTA', 'TARLAC', 'WARDHA', 'BOKARO STEEL', 'CALABAR',\n",
       "       'KARIMNAGAR', 'IBADAN', 'ATHENS', 'LONDON ON', 'MUNTINLUPA',\n",
       "       'GRESIK', 'NEW DELHI  INDIA', 'KHANDWA  MP', 'PANCHKULA',\n",
       "       'CAVITE  PHILIPPINES', 'BACOOR  PHILIPPINES',\n",
       "       'IMUS  CAVITE  PHILIPPINES', 'IMUS   CAVITE  PHILIPPINES', 'IMUS',\n",
       "       'JAMSHEDPUR', 'LOHARDAGA', 'YOBE', 'BHILAI', 'UTTARAKHAND',\n",
       "       'HYDERABA', 'NAGDA', 'MARRAKECH', 'OTON ILOILO',\n",
       "       'SURABAYA  INDONESIA', 'FARRUKHABAD UP', 'CLUJNAPOCA', 'HOUSTON',\n",
       "       'RATNAGIRI', 'SURAT', 'SURIGAO', 'EDMONTON',\n",
       "       'SURIGAO   PHILIPPINES', 'MORADABAD  UTTAR PRADESH', 'NALLASOPARA',\n",
       "       'BANDUNG', 'KOTA BANDUNG', 'HARDA', 'SIWAN', 'SRINAGAR',\n",
       "       'ERODE  TAMILNADU', 'JALANDHAR', 'ROBERTSGANJ', 'ROORKEE',\n",
       "       'JODHPUR', 'SILIGURI', 'VARANASI', 'BALLIA', 'KOLLAM',\n",
       "       'PATNA   BIHAR', 'BARY', 'DUBLIN', 'MIRI', 'BANGLORE', 'ALIGARH',\n",
       "       'KANNUR', 'KOTTAYAM', 'THRISSUR', 'GOA', 'ALAPPEY', 'KOZHIKODE',\n",
       "       'BEKASI  INDONESIA', 'JAITU', 'GONDA', 'SAMARINDA',\n",
       "       'CHABUA  DIBRUGARH', 'NIGERIA  KATSINA', 'LUDHIANA', 'KARACHI',\n",
       "       'VRINDAVAN', 'TAGUIG', 'COCHIN', 'ANKLESHWAR', 'AJMER',\n",
       "       'JOHANNESBURG', 'VISAKHAPATNAM  ANDHRA PRADESH  INDIA', 'ASSAM',\n",
       "       'JAUNPUR', 'LONI ', 'KARNAL  HARYANA', 'GOMBE  NIGERIA', 'MANJERI',\n",
       "       'DUMKA', 'ROHTAK', 'KUALA LUMPUR', 'CASABLANCA', 'JALORE',\n",
       "       'BACOOR', 'MAPUSA', 'NUH', 'JHAJJAR', 'KARACHI PAKISTAN',\n",
       "       'VIZIANAGARAM', 'LEBANONSAIDA', 'ANSAN', 'THIRUVALLA', 'NADIAD',\n",
       "       'UAE', 'PURI', 'GUJARAT', 'SUNSET AVE  WINDSOR', 'MALAYSIA',\n",
       "       'RAEBARELI', 'JABALPUR', 'JORHAT', 'CHAMARAJNAGAR',\n",
       "       'KHARGHAR  NAVI MUMBAI  ', 'REWARI', 'AHMEDNAGAR', 'RUPNAGAR',\n",
       "       'MADHYA PRADESH', 'KALYAN', 'SUNYANI', 'MADURAI', 'UJJAIN',\n",
       "       'GURGOAN', 'TEZPUR', 'KOCHI', 'GANDHINAGAR', 'LUSAKA', 'AURAGABAD',\n",
       "       'JALNA', 'AKOLA', 'DEULGAON RAJA BULDANA', 'BULDHANA', 'CALICUT',\n",
       "       'SHIMLA', 'BALLABGARH', 'GURGRAM', 'HARYANA', 'KOSI', 'RAJAM',\n",
       "       'SALEM', 'PALANPUR', 'PIMPARI CHINCHWAD', 'NANDED', 'HINGOLI',\n",
       "       'HALDWANI', 'PIMPLE SAUDAGAR', 'NAKONDE', 'MORIGAON',\n",
       "       'NAGPUR MAHARASHTRA', 'KATNI', 'PARLI', 'AHMEDABAD  GUJARAT',\n",
       "       'DIMAPUR', 'PATHALGAON', 'SUDERSHAN PARK NEW DELHI', 'CIRIMIRI',\n",
       "       'TULJAPUR', 'LUNAWADA', 'LATUR MAHARASHTRA', 'REWA', 'BIHARSHARIF',\n",
       "       'V.P.O  MOHANPUR  DISTT.  REWARI', 'KHAMBHAT', 'SHANI SHINGNAPUR',\n",
       "       'SAIDA', 'KARAULI', 'NEW DELHI NCR', 'AMRAVATI  MAHARASHTRA',\n",
       "       'SECUNDERABAD', 'VIZAG', 'NASIK', 'RAJKOT', 'AHAMDNAGAR',\n",
       "       'KOLDING', 'WASHI', 'GODHARA', 'SRIMADHOPUR', 'ALLAHABAD',\n",
       "       'BOISAR', 'KONDAGAON', 'NAGAON  ASSAM.', 'SINGAPORE', 'M',\n",
       "       'MALEGAON  NASHIK', 'SULTANPUR', 'ICHALKARANJI', 'SILCHAR  ASSAM',\n",
       "       'GORAKHPUR', 'JAMNAGAR', 'SOLAPUR', 'ARIYALUR', 'PRAYAGRAJ',\n",
       "       'TRIPUNITHURA  ERNAKULAM', 'KOZHIKKODE', 'TRIVANDRUM  KERALA',\n",
       "       'KALADY', 'BELAGAVI', 'NANGALIYA GUJARWAS', 'ROURKELA', 'PHALTAN',\n",
       "       'PILANI', 'CHAPRA', 'SURJAPUR', 'SAMASTIPUR', 'VIJAYAWADA',\n",
       "       'HOSUR', 'BAREILLY', 'JAJPUR', 'VIJAYPUR', 'INKOLLU', 'SHADNAGAR',\n",
       "       'RAYAGADA  ODISHA.', 'YAMUNANAGAR', 'VISHAKHAPATNAM',\n",
       "       'THANE MAHARASHTRA', 'ASANSOL', 'AIROLI', 'ISLAMPUR', 'HAPUR',\n",
       "       'SANCHI', 'WARANGAL', 'BIHAR', 'ITANAGAR', 'BHAGALPUR', 'NELLORE',\n",
       "       'PARBHANI', 'EGYPT  DAMIETTA', 'BALER AURORA PHILIPPINES',\n",
       "       'MANGLORE', 'PALAKKAD', 'PASIGHAT', 'PARASI', 'AMBEJOGAI',\n",
       "       'HOSHANGABAD M.P.', 'MANIPAL', 'DIBRUGARH', 'ALIBAG',\n",
       "       'LOS BAÑOS  PHILIPPINES', 'PUSAD', 'IMPHAL', 'BIKRAMGANJ', 'ARWAL',\n",
       "       'SASARAM', 'DARBHANGA', 'KHORDHA', 'JEHANABAD', 'SHAMLI U.P.',\n",
       "       'ANANTHAPUR', 'PASIG', 'MANILA', 'KALYANDOMBIVALI', 'SAN CARLOS',\n",
       "       'MANILA  PHILIPPINES', 'SRI GANGANAGAR', 'KUPPAM', 'KOTA',\n",
       "       'BARAMATI', 'KOLKATA WEST BENGAL', 'DHANBAD', 'DUBAI',\n",
       "       'GHAZIYABAD Q', 'VELLORE', 'PORBANDAR', 'KANGRA', 'NEEMUCH',\n",
       "       'BEGUSARAI', 'THALASSERY', 'PUNE  MAHARASHTRA', 'NAWANSHAHR',\n",
       "       'I WANT TO ATTEND', 'FARIDABAD  HARYANA', 'AGRA', 'BRUSSELS',\n",
       "       'GONDIA', 'VASHI  NAVI MUMBAI', 'NEW DELHINCR', 'WEST NEW DELHI',\n",
       "       'BHILWARA', 'NCR', 'BHUBANESWAR PATNA', 'MAIHAR', 'PATNA  BIHAR',\n",
       "       'DOHA', 'PATIALA', 'NEW DELHI.', 'BONGAIGAON',\n",
       "       'SOUTH WEST NEW DELHI', 'MOTIHARI', 'MP', 'MURADNAGAR',\n",
       "       'MANGALDAI', 'SECUDERABAD', 'NAINITAL', 'NOTTINGHAM UK', 'AYODHYA',\n",
       "       'LEH', 'SHILLONG', 'GOA.', 'KALYANI', 'RAJABALA', 'GUMLA',\n",
       "       'CHITTORGARH', 'SULLURPETA', 'GAYA  BIHAR', 'UMSAWNONGBRI',\n",
       "       'CHATTOGRAM  BANGLADESH', 'TURA', 'RAJNANDGAON',\n",
       "       'THUMMALAGUNTA TIRUPATI', 'SAGAR', 'CHITTAGONG', 'YAVATMAL',\n",
       "       'ᴀɢƦᴀ', 'ESTERO', 'THRISSUR  KERALA', 'JHARAKHAND', 'MANSA',\n",
       "       'JAMMU AND KASHMIR', 'AMRAVATI', 'MARGAOGOA',\n",
       "       'ORAGITOK ROMBA ADING', 'CHINCHWAD', 'SARAN', 'GANDHIDHAM',\n",
       "       'KARBI ANGLONG', 'LONAVALA', 'SATARA', 'SAHARANPUR  UP', 'MUNGER',\n",
       "       'THANE WEST MUMBAI', 'PIMPRI CHINCHWAD', 'TIRUPATHI',\n",
       "       'HOSHANGABAD', 'SANGLI', 'NEWNEW DELHI', 'AIZAWL', 'MATHURA',\n",
       "       'BASTAR CHHATTISGARH', 'PANAJI', 'VASCO', 'RUCHITAMAGR@GMAIL.COM',\n",
       "       'NAIROBI', 'BELTOLA  GUWAHATI', 'KESINGA', 'BARIPADA  MAYURBHANJ',\n",
       "       'THANE WEST', 'NAGOTHANE', 'OSMANABAD', 'BHIWADI', 'SONBHADRA',\n",
       "       'DHARMAPURI', 'MADHUBANI', 'KHARGHAR', 'AGRA  UTTAR PRADESH',\n",
       "       'TALASARI', 'KOLLATA', 'SHAHDARA  NORTH EAST NEW DELHI', 'BARGARH',\n",
       "       'NEW DELHILUCKNOW', 'KOTTAYAM  KERALA', 'BHUBANESHWAR',\n",
       "       'MANGALORE', 'GANDEVI', 'JHUNJHUNU', 'KAMPALA  UGANDA',\n",
       "       'PATHANAMTHITTA', 'SIVASAGAR', 'WINDHOEK', 'DHULE',\n",
       "       'HARYANA  NEW DELHI', 'RAJASTHAN', 'AZAMGARH U.P',\n",
       "       'CHITTARANJAN WEST BENGAL', 'SASASARAM', 'MANAPPARAI',\n",
       "       'VELACHERY  CHENNAI', 'AMBAJOGAI', 'AMBIKAPUR', 'ALGIERS',\n",
       "       'LAHORE', 'BHUBANESWAR ODISHA', 'KAMRUP METRO', 'DIGBOI', 'JIND',\n",
       "       'HOOGHLY', 'WASHIM', 'THENI', 'JAMNAGAR  GUJARAT',\n",
       "       'KARACHI  PAKISTAN', 'WEST BENGAL', 'CHHATARPUR', 'TAMILNADU',\n",
       "       'SATNA', 'SOFADES', 'NEWCASTLE', 'RAICHUR', 'GADAG', 'GUAGUA',\n",
       "       'TIRUCHIRAPPALLI', 'MUMBAILUCKNOW', 'LAKHIMPUR KHERI', 'MYSURU',\n",
       "       'BALANGIR  ODISHA', 'KADAPA', 'BATHINDA', 'QUEZON  PHILIPPINES',\n",
       "       'DHARAMSHALA', 'DAVAO', 'SHAHJAHANPUR UP', 'BAGUIO', 'MANCHERIAL',\n",
       "       'VALENCIA   BUKIDNON', 'VELLORR TAMILNADU', 'KORBA', 'BILASIPARA',\n",
       "       'KATIHAR', 'KOLAR', 'JANJGIR', 'NALBARI', 'KARKALA', 'TIRUVALLA',\n",
       "       'DHENKANAL', 'CHHAPRA', 'DEHRADOON', 'ALAPPUZHA', 'KUCHAMAN',\n",
       "       'BANKURA', 'HANDEWADI ROAD', 'UDAIPUR  TRIPURA', 'VISHAKAPATNAM',\n",
       "       'GOLAGHAT', 'ODISHA', 'BHARATPUR', 'SIBSAGAR', 'BURDWAN',\n",
       "       'BAIDYAPUR  BURDWAN', 'KORAPUT', 'KOPARGOAN', 'GANGAPUR',\n",
       "       'HAJIPUR', 'DURGAPUR', 'TEZPUR  ASSAM', 'BALLARI', 'GOHPUR',\n",
       "       'JHANSI', 'PACHORA', 'GUWAE', 'KEKRI', 'WANWARLA  PUSAD',\n",
       "       'YAVATAMAL', 'MALKAPUR', 'SHIRDI', 'TEZPUR   ASSAM', 'WANI',\n",
       "       'ARJUNI', 'GUWAHATI  ASSAM', 'MUJAFFARPUR', 'BIJNI', 'YAVTMAL',\n",
       "       'NAGAON', 'CHIKARADA', 'AURANGABAD  BIHAR', 'KARAD', 'DAPOLI',\n",
       "       'VISAKHAPTNAM', 'KERALA', 'BARELI   DISTT RAISEN', 'HAFLONG',\n",
       "       'BULANDSHAHR', 'BONGAIGAON  ASSAM', 'NAGERCOIL', 'SHEOGANJ',\n",
       "       'MOODBIDRE', 'JODHPUR RAJASTHAN', 'JAGDALPUR BASTER', 'JEYPORE',\n",
       "       'CHAKDAHA', 'MUZZAFURPUR', 'HARDOI', 'RASRA', 'MUZAFFARPUR',\n",
       "       'RAYAGADA', 'BARH', 'NASRIGANJ', 'UDUPI', 'SITAMARHI', 'MADHUBAN',\n",
       "       'SAMASTIP', 'BALURGHAT SOUTH DINAJPUR', 'GOPALGANJ', 'SANTRAMPUR',\n",
       "       'SAHIBGANJ', 'BEAWAR', 'KANCHIPURAM', 'AMBUR', 'ERODE',\n",
       "       'KHARIAR ROAD', 'JALGAON JAMOD', 'LADAKH', 'TIRUPATI', 'MUSCAT',\n",
       "       'MUNGER BIHAR', 'AGARTALA', 'KONDAPALLI'], dtype=object)"
      ]
     },
     "execution_count": 74,
     "metadata": {},
     "output_type": "execute_result"
    }
   ],
   "source": [
    "df['City'].unique()"
   ]
  },
  {
   "cell_type": "code",
   "execution_count": 75,
   "metadata": {},
   "outputs": [
    {
     "data": {
      "text/plain": [
       "PUNE                        449\n",
       "NEW DELHI                   282\n",
       "MUMBAI                      217\n",
       "BANGALORE                   106\n",
       "CHENNAI                      92\n",
       "                           ... \n",
       "NIGERIA  KATSINA              1\n",
       "SHEOGANJ                      1\n",
       "GANGAPUR                      1\n",
       "LAS PIÑAS   METRO MANILA      1\n",
       "THIRUVALLA                    1\n",
       "Name: City, Length: 657, dtype: int64"
      ]
     },
     "execution_count": 75,
     "metadata": {},
     "output_type": "execute_result"
    }
   ],
   "source": [
    "df[\"City\"].value_counts()"
   ]
  },
  {
   "cell_type": "code",
   "execution_count": 79,
   "metadata": {},
   "outputs": [],
   "source": [
    "df.to_excel(r\"C:\\Users\\user\\Downloads\\4.MKR TASK 2\\New folder\\COMPLETE.xlsx\")"
   ]
  },
  {
   "cell_type": "code",
   "execution_count": null,
   "metadata": {},
   "outputs": [],
   "source": []
  }
 ],
 "metadata": {
  "kernelspec": {
   "display_name": "Python 3",
   "language": "python",
   "name": "python3"
  },
  "language_info": {
   "codemirror_mode": {
    "name": "ipython",
    "version": 3
   },
   "file_extension": ".py",
   "mimetype": "text/x-python",
   "name": "python",
   "nbconvert_exporter": "python",
   "pygments_lexer": "ipython3",
   "version": "3.8.3"
  }
 },
 "nbformat": 4,
 "nbformat_minor": 4
}
