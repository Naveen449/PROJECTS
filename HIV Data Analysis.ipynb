{
 "cells": [
  {
   "cell_type": "markdown",
   "metadata": {},
   "source": [
    "# Data Cleaning"
   ]
  },
  {
   "cell_type": "code",
   "execution_count": 1,
   "metadata": {},
   "outputs": [],
   "source": [
    "import pandas as pd"
   ]
  },
  {
   "cell_type": "code",
   "execution_count": 2,
   "metadata": {},
   "outputs": [
    {
     "data": {
      "text/html": [
       "<div>\n",
       "<style scoped>\n",
       "    .dataframe tbody tr th:only-of-type {\n",
       "        vertical-align: middle;\n",
       "    }\n",
       "\n",
       "    .dataframe tbody tr th {\n",
       "        vertical-align: top;\n",
       "    }\n",
       "\n",
       "    .dataframe thead th {\n",
       "        text-align: right;\n",
       "    }\n",
       "</style>\n",
       "<table border=\"1\" class=\"dataframe\">\n",
       "  <thead>\n",
       "    <tr style=\"text-align: right;\">\n",
       "      <th></th>\n",
       "      <th>WHO region</th>\n",
       "      <th>Year</th>\n",
       "      <th>Number of deaths due to HIV/AIDS</th>\n",
       "    </tr>\n",
       "  </thead>\n",
       "  <tbody>\n",
       "    <tr>\n",
       "      <th>0</th>\n",
       "      <td>Global</td>\n",
       "      <td>2019</td>\n",
       "      <td>690 000 [500 000–970 000]</td>\n",
       "    </tr>\n",
       "    <tr>\n",
       "      <th>1</th>\n",
       "      <td>Global</td>\n",
       "      <td>2018</td>\n",
       "      <td>730 000 [530 000–1 000 000]</td>\n",
       "    </tr>\n",
       "    <tr>\n",
       "      <th>2</th>\n",
       "      <td>Global</td>\n",
       "      <td>2017</td>\n",
       "      <td>760 000 [550 000–1 100 000]</td>\n",
       "    </tr>\n",
       "    <tr>\n",
       "      <th>3</th>\n",
       "      <td>Global</td>\n",
       "      <td>2016</td>\n",
       "      <td>800 000 [580 000–1 100 000]</td>\n",
       "    </tr>\n",
       "    <tr>\n",
       "      <th>4</th>\n",
       "      <td>Global</td>\n",
       "      <td>2015</td>\n",
       "      <td>830 000 [610 000–1 200 000]</td>\n",
       "    </tr>\n",
       "    <tr>\n",
       "      <th>5</th>\n",
       "      <td>Global</td>\n",
       "      <td>2014</td>\n",
       "      <td>870 000 [640 000–1 200 000]</td>\n",
       "    </tr>\n",
       "    <tr>\n",
       "      <th>6</th>\n",
       "      <td>Global</td>\n",
       "      <td>2013</td>\n",
       "      <td>930 000 [680 000–1 300 000]</td>\n",
       "    </tr>\n",
       "    <tr>\n",
       "      <th>7</th>\n",
       "      <td>Global</td>\n",
       "      <td>2012</td>\n",
       "      <td>1 000 000 [730 000–1 400 000]</td>\n",
       "    </tr>\n",
       "    <tr>\n",
       "      <th>8</th>\n",
       "      <td>Global</td>\n",
       "      <td>2011</td>\n",
       "      <td>1 100 000 [780 000–1 500 000]</td>\n",
       "    </tr>\n",
       "    <tr>\n",
       "      <th>9</th>\n",
       "      <td>Global</td>\n",
       "      <td>2010</td>\n",
       "      <td>1 100 000 [830 000–1 600 000]</td>\n",
       "    </tr>\n",
       "  </tbody>\n",
       "</table>\n",
       "</div>"
      ],
      "text/plain": [
       "  WHO region  Year Number of deaths due to HIV/AIDS\n",
       "0     Global  2019        690 000 [500 000–970 000]\n",
       "1     Global  2018      730 000 [530 000–1 000 000]\n",
       "2     Global  2017      760 000 [550 000–1 100 000]\n",
       "3     Global  2016      800 000 [580 000–1 100 000]\n",
       "4     Global  2015      830 000 [610 000–1 200 000]\n",
       "5     Global  2014      870 000 [640 000–1 200 000]\n",
       "6     Global  2013      930 000 [680 000–1 300 000]\n",
       "7     Global  2012    1 000 000 [730 000–1 400 000]\n",
       "8     Global  2011    1 100 000 [780 000–1 500 000]\n",
       "9     Global  2010    1 100 000 [830 000–1 600 000]"
      ]
     },
     "execution_count": 2,
     "metadata": {},
     "output_type": "execute_result"
    }
   ],
   "source": [
    "#Read Dataset File 1\n",
    "df=pd.read_excel(r\"C:\\Users\\user\\Downloads\\MKR\\HIV_1.xlsx\")\n",
    "df.head(10)"
   ]
  },
  {
   "cell_type": "code",
   "execution_count": 3,
   "metadata": {},
   "outputs": [
    {
     "data": {
      "text/plain": [
       "(210, 3)"
      ]
     },
     "execution_count": 3,
     "metadata": {},
     "output_type": "execute_result"
    }
   ],
   "source": [
    "df.shape"
   ]
  },
  {
   "cell_type": "code",
   "execution_count": 4,
   "metadata": {},
   "outputs": [
    {
     "name": "stdout",
     "output_type": "stream",
     "text": [
      "<class 'pandas.core.frame.DataFrame'>\n",
      "RangeIndex: 210 entries, 0 to 209\n",
      "Data columns (total 3 columns):\n",
      " #   Column                            Non-Null Count  Dtype \n",
      "---  ------                            --------------  ----- \n",
      " 0   WHO region                        210 non-null    object\n",
      " 1   Year                              210 non-null    int64 \n",
      " 2   Number of deaths due to HIV/AIDS  210 non-null    object\n",
      "dtypes: int64(1), object(2)\n",
      "memory usage: 5.0+ KB\n"
     ]
    }
   ],
   "source": [
    "df.info()"
   ]
  },
  {
   "cell_type": "code",
   "execution_count": 5,
   "metadata": {},
   "outputs": [
    {
     "data": {
      "text/plain": [
       "WHO region                          0\n",
       "Year                                0\n",
       "Number of deaths due to HIV/AIDS    0\n",
       "dtype: int64"
      ]
     },
     "execution_count": 5,
     "metadata": {},
     "output_type": "execute_result"
    }
   ],
   "source": [
    "df.isnull().sum()     #Data doesn't contain any Null values"
   ]
  },
  {
   "cell_type": "markdown",
   "metadata": {},
   "source": [
    "### Target Column is \"Number_of_deaths_due_to_HIV_or_AIDS\""
   ]
  },
  {
   "cell_type": "code",
   "execution_count": 6,
   "metadata": {},
   "outputs": [],
   "source": [
    "df[\"Number of deaths due to HIV/AIDS\"]=df[\"Number of deaths due to HIV/AIDS\"].str.replace(r'\\[.*\\]',\"\")"
   ]
  },
  {
   "cell_type": "code",
   "execution_count": 7,
   "metadata": {
    "scrolled": true
   },
   "outputs": [
    {
     "data": {
      "text/html": [
       "<div>\n",
       "<style scoped>\n",
       "    .dataframe tbody tr th:only-of-type {\n",
       "        vertical-align: middle;\n",
       "    }\n",
       "\n",
       "    .dataframe tbody tr th {\n",
       "        vertical-align: top;\n",
       "    }\n",
       "\n",
       "    .dataframe thead th {\n",
       "        text-align: right;\n",
       "    }\n",
       "</style>\n",
       "<table border=\"1\" class=\"dataframe\">\n",
       "  <thead>\n",
       "    <tr style=\"text-align: right;\">\n",
       "      <th></th>\n",
       "      <th>WHO region</th>\n",
       "      <th>Year</th>\n",
       "      <th>Number of deaths due to HIV/AIDS</th>\n",
       "    </tr>\n",
       "  </thead>\n",
       "  <tbody>\n",
       "    <tr>\n",
       "      <th>0</th>\n",
       "      <td>Global</td>\n",
       "      <td>2019</td>\n",
       "      <td>690 000</td>\n",
       "    </tr>\n",
       "    <tr>\n",
       "      <th>1</th>\n",
       "      <td>Global</td>\n",
       "      <td>2018</td>\n",
       "      <td>730 000</td>\n",
       "    </tr>\n",
       "    <tr>\n",
       "      <th>2</th>\n",
       "      <td>Global</td>\n",
       "      <td>2017</td>\n",
       "      <td>760 000</td>\n",
       "    </tr>\n",
       "    <tr>\n",
       "      <th>3</th>\n",
       "      <td>Global</td>\n",
       "      <td>2016</td>\n",
       "      <td>800 000</td>\n",
       "    </tr>\n",
       "    <tr>\n",
       "      <th>4</th>\n",
       "      <td>Global</td>\n",
       "      <td>2015</td>\n",
       "      <td>830 000</td>\n",
       "    </tr>\n",
       "  </tbody>\n",
       "</table>\n",
       "</div>"
      ],
      "text/plain": [
       "  WHO region  Year Number of deaths due to HIV/AIDS\n",
       "0     Global  2019                         690 000 \n",
       "1     Global  2018                         730 000 \n",
       "2     Global  2017                         760 000 \n",
       "3     Global  2016                         800 000 \n",
       "4     Global  2015                         830 000 "
      ]
     },
     "execution_count": 7,
     "metadata": {},
     "output_type": "execute_result"
    }
   ],
   "source": [
    "df.head()"
   ]
  },
  {
   "cell_type": "code",
   "execution_count": 8,
   "metadata": {},
   "outputs": [
    {
     "name": "stdout",
     "output_type": "stream",
     "text": [
      "<class 'pandas.core.frame.DataFrame'>\n",
      "RangeIndex: 210 entries, 0 to 209\n",
      "Data columns (total 3 columns):\n",
      " #   Column                            Non-Null Count  Dtype \n",
      "---  ------                            --------------  ----- \n",
      " 0   WHO region                        210 non-null    object\n",
      " 1   Year                              210 non-null    int64 \n",
      " 2   Number of deaths due to HIV/AIDS  210 non-null    object\n",
      "dtypes: int64(1), object(2)\n",
      "memory usage: 5.0+ KB\n"
     ]
    }
   ],
   "source": [
    "df.info()"
   ]
  },
  {
   "cell_type": "code",
   "execution_count": 9,
   "metadata": {},
   "outputs": [],
   "source": [
    "#Remove Whitespaces from target columns and then Dtype conversion.\n",
    "df[\"Number of deaths due to HIV/AIDS\"]=df[\"Number of deaths due to HIV/AIDS\"].str.replace(\" \",\"\")\n",
    "df[\"Number of deaths due to HIV/AIDS\"] = pd.to_numeric(df[\"Number of deaths due to HIV/AIDS\"], downcast=\"float\")"
   ]
  },
  {
   "cell_type": "code",
   "execution_count": 10,
   "metadata": {},
   "outputs": [
    {
     "data": {
      "text/html": [
       "<div>\n",
       "<style scoped>\n",
       "    .dataframe tbody tr th:only-of-type {\n",
       "        vertical-align: middle;\n",
       "    }\n",
       "\n",
       "    .dataframe tbody tr th {\n",
       "        vertical-align: top;\n",
       "    }\n",
       "\n",
       "    .dataframe thead th {\n",
       "        text-align: right;\n",
       "    }\n",
       "</style>\n",
       "<table border=\"1\" class=\"dataframe\">\n",
       "  <thead>\n",
       "    <tr style=\"text-align: right;\">\n",
       "      <th></th>\n",
       "      <th>WHO region</th>\n",
       "      <th>Year</th>\n",
       "      <th>Number of deaths due to HIV/AIDS</th>\n",
       "    </tr>\n",
       "  </thead>\n",
       "  <tbody>\n",
       "    <tr>\n",
       "      <th>0</th>\n",
       "      <td>Global</td>\n",
       "      <td>2019</td>\n",
       "      <td>690000.0</td>\n",
       "    </tr>\n",
       "    <tr>\n",
       "      <th>1</th>\n",
       "      <td>Global</td>\n",
       "      <td>2018</td>\n",
       "      <td>730000.0</td>\n",
       "    </tr>\n",
       "    <tr>\n",
       "      <th>2</th>\n",
       "      <td>Global</td>\n",
       "      <td>2017</td>\n",
       "      <td>760000.0</td>\n",
       "    </tr>\n",
       "    <tr>\n",
       "      <th>3</th>\n",
       "      <td>Global</td>\n",
       "      <td>2016</td>\n",
       "      <td>800000.0</td>\n",
       "    </tr>\n",
       "    <tr>\n",
       "      <th>4</th>\n",
       "      <td>Global</td>\n",
       "      <td>2015</td>\n",
       "      <td>830000.0</td>\n",
       "    </tr>\n",
       "  </tbody>\n",
       "</table>\n",
       "</div>"
      ],
      "text/plain": [
       "  WHO region  Year  Number of deaths due to HIV/AIDS\n",
       "0     Global  2019                          690000.0\n",
       "1     Global  2018                          730000.0\n",
       "2     Global  2017                          760000.0\n",
       "3     Global  2016                          800000.0\n",
       "4     Global  2015                          830000.0"
      ]
     },
     "execution_count": 10,
     "metadata": {},
     "output_type": "execute_result"
    }
   ],
   "source": [
    "df.head()"
   ]
  },
  {
   "cell_type": "code",
   "execution_count": 11,
   "metadata": {},
   "outputs": [
    {
     "name": "stdout",
     "output_type": "stream",
     "text": [
      "<class 'pandas.core.frame.DataFrame'>\n",
      "RangeIndex: 210 entries, 0 to 209\n",
      "Data columns (total 3 columns):\n",
      " #   Column                            Non-Null Count  Dtype  \n",
      "---  ------                            --------------  -----  \n",
      " 0   WHO region                        210 non-null    object \n",
      " 1   Year                              210 non-null    int64  \n",
      " 2   Number of deaths due to HIV/AIDS  210 non-null    float32\n",
      "dtypes: float32(1), int64(1), object(1)\n",
      "memory usage: 4.2+ KB\n"
     ]
    }
   ],
   "source": [
    "df.info()"
   ]
  },
  {
   "cell_type": "code",
   "execution_count": 12,
   "metadata": {},
   "outputs": [],
   "source": [
    "df.to_excel(r\"C:\\Users\\user\\Downloads\\HIV_Cleaned_1.xlsx\")     #Download cleaned Dataframe"
   ]
  },
  {
   "cell_type": "markdown",
   "metadata": {},
   "source": [
    "### 2nd Dataset"
   ]
  },
  {
   "cell_type": "code",
   "execution_count": 13,
   "metadata": {},
   "outputs": [
    {
     "data": {
      "text/html": [
       "<div>\n",
       "<style scoped>\n",
       "    .dataframe tbody tr th:only-of-type {\n",
       "        vertical-align: middle;\n",
       "    }\n",
       "\n",
       "    .dataframe tbody tr th {\n",
       "        vertical-align: top;\n",
       "    }\n",
       "\n",
       "    .dataframe thead th {\n",
       "        text-align: right;\n",
       "    }\n",
       "</style>\n",
       "<table border=\"1\" class=\"dataframe\">\n",
       "  <thead>\n",
       "    <tr style=\"text-align: right;\">\n",
       "      <th></th>\n",
       "      <th>WHO region</th>\n",
       "      <th>Year</th>\n",
       "      <th>Number of new HIV infections</th>\n",
       "      <th>New HIV infections per1000 uninfected (Both Sexes)</th>\n",
       "      <th>New HIV infections per 1000 uninfected (Male)</th>\n",
       "      <th>New HIV infections per 1000 uninfected (Female)</th>\n",
       "    </tr>\n",
       "  </thead>\n",
       "  <tbody>\n",
       "    <tr>\n",
       "      <th>0</th>\n",
       "      <td>Global</td>\n",
       "      <td>2019</td>\n",
       "      <td>1 700 000 [1 200 000–2 200 000]</td>\n",
       "      <td>0.22 [0.16–0.3]</td>\n",
       "      <td>0.23 [0.17–0.32]</td>\n",
       "      <td>0.21 [0.16-0.29]</td>\n",
       "    </tr>\n",
       "    <tr>\n",
       "      <th>1</th>\n",
       "      <td>Global</td>\n",
       "      <td>2018</td>\n",
       "      <td>1 700 000 [1 200 000–2 300 000]</td>\n",
       "      <td>0.23 [0.17–0.31]</td>\n",
       "      <td>0.24 [0.17–0.33]</td>\n",
       "      <td>0.22 [0.16-0.3]</td>\n",
       "    </tr>\n",
       "    <tr>\n",
       "      <th>2</th>\n",
       "      <td>Global</td>\n",
       "      <td>2017</td>\n",
       "      <td>1 800 000 [1 300 000–2 400 000]</td>\n",
       "      <td>0.24 [0.18–0.32]</td>\n",
       "      <td>0.24 [0.18–0.34]</td>\n",
       "      <td>0.23 [0.17-0.32]</td>\n",
       "    </tr>\n",
       "    <tr>\n",
       "      <th>3</th>\n",
       "      <td>Global</td>\n",
       "      <td>2016</td>\n",
       "      <td>1 800 000 [1 300 000–2 400 000]</td>\n",
       "      <td>0.25 [0.18–0.34]</td>\n",
       "      <td>0.25 [0.18–0.35]</td>\n",
       "      <td>0.24 [0.18-0.33]</td>\n",
       "    </tr>\n",
       "    <tr>\n",
       "      <th>4</th>\n",
       "      <td>Global</td>\n",
       "      <td>2015</td>\n",
       "      <td>1 900 000 [1 400 000–2 500 000]</td>\n",
       "      <td>0.26 [0.19–0.35]</td>\n",
       "      <td>0.26 [0.19–0.36]</td>\n",
       "      <td>0.26 [0.19-0.35]</td>\n",
       "    </tr>\n",
       "  </tbody>\n",
       "</table>\n",
       "</div>"
      ],
      "text/plain": [
       "  WHO region  Year     Number of new HIV infections  \\\n",
       "0     Global  2019  1 700 000 [1 200 000–2 200 000]   \n",
       "1     Global  2018  1 700 000 [1 200 000–2 300 000]   \n",
       "2     Global  2017  1 800 000 [1 300 000–2 400 000]   \n",
       "3     Global  2016  1 800 000 [1 300 000–2 400 000]   \n",
       "4     Global  2015  1 900 000 [1 400 000–2 500 000]   \n",
       "\n",
       "  New HIV infections per1000 uninfected (Both Sexes)  \\\n",
       "0                                    0.22 [0.16–0.3]   \n",
       "1                                   0.23 [0.17–0.31]   \n",
       "2                                   0.24 [0.18–0.32]   \n",
       "3                                   0.25 [0.18–0.34]   \n",
       "4                                   0.26 [0.19–0.35]   \n",
       "\n",
       "  New HIV infections per 1000 uninfected (Male)  \\\n",
       "0                              0.23 [0.17–0.32]   \n",
       "1                              0.24 [0.17–0.33]   \n",
       "2                              0.24 [0.18–0.34]   \n",
       "3                              0.25 [0.18–0.35]   \n",
       "4                              0.26 [0.19–0.36]   \n",
       "\n",
       "  New HIV infections per 1000 uninfected (Female)  \n",
       "0                                0.21 [0.16-0.29]  \n",
       "1                                 0.22 [0.16-0.3]  \n",
       "2                                0.23 [0.17-0.32]  \n",
       "3                                0.24 [0.18-0.33]  \n",
       "4                                0.26 [0.19-0.35]  "
      ]
     },
     "execution_count": 13,
     "metadata": {},
     "output_type": "execute_result"
    }
   ],
   "source": [
    "#Read Dataset File 2\n",
    "df1=pd.read_excel(r\"C:\\Users\\user\\Downloads\\MKR\\HIV_2.xlsx\")\n",
    "df1.head()"
   ]
  },
  {
   "cell_type": "code",
   "execution_count": 14,
   "metadata": {},
   "outputs": [
    {
     "data": {
      "text/plain": [
       "(210, 6)"
      ]
     },
     "execution_count": 14,
     "metadata": {},
     "output_type": "execute_result"
    }
   ],
   "source": [
    "df1.shape"
   ]
  },
  {
   "cell_type": "code",
   "execution_count": 15,
   "metadata": {},
   "outputs": [
    {
     "data": {
      "text/plain": [
       "WHO region                                            0\n",
       "Year                                                  0\n",
       "Number of new HIV infections                          0\n",
       "New HIV infections per1000 uninfected (Both Sexes)    0\n",
       "New HIV infections per 1000 uninfected (Male)         0\n",
       "New HIV infections per 1000 uninfected (Female)       0\n",
       "dtype: int64"
      ]
     },
     "execution_count": 15,
     "metadata": {},
     "output_type": "execute_result"
    }
   ],
   "source": [
    "df1.isnull().sum()     #Data doesn't contain any Null values"
   ]
  },
  {
   "cell_type": "code",
   "execution_count": 16,
   "metadata": {},
   "outputs": [
    {
     "name": "stdout",
     "output_type": "stream",
     "text": [
      "<class 'pandas.core.frame.DataFrame'>\n",
      "RangeIndex: 210 entries, 0 to 209\n",
      "Data columns (total 6 columns):\n",
      " #   Column                                              Non-Null Count  Dtype \n",
      "---  ------                                              --------------  ----- \n",
      " 0   WHO region                                          210 non-null    object\n",
      " 1   Year                                                210 non-null    int64 \n",
      " 2   Number of new HIV infections                        210 non-null    object\n",
      " 3   New HIV infections per1000 uninfected (Both Sexes)  210 non-null    object\n",
      " 4   New HIV infections per 1000 uninfected (Male)       210 non-null    object\n",
      " 5   New HIV infections per 1000 uninfected (Female)     210 non-null    object\n",
      "dtypes: int64(1), object(5)\n",
      "memory usage: 10.0+ KB\n"
     ]
    }
   ],
   "source": [
    "df1.info()     #Data doesn't contain any Null values"
   ]
  },
  {
   "cell_type": "markdown",
   "metadata": {},
   "source": [
    "### Target columns : All 'object' Dtype except 'WHO region'"
   ]
  },
  {
   "cell_type": "code",
   "execution_count": 17,
   "metadata": {},
   "outputs": [
    {
     "name": "stderr",
     "output_type": "stream",
     "text": [
      "C:\\Users\\user\\anaconda3\\lib\\site-packages\\pandas\\core\\frame.py:3990: SettingWithCopyWarning: \n",
      "A value is trying to be set on a copy of a slice from a DataFrame\n",
      "\n",
      "See the caveats in the documentation: https://pandas.pydata.org/pandas-docs/stable/user_guide/indexing.html#returning-a-view-versus-a-copy\n",
      "  return super().drop(\n"
     ]
    }
   ],
   "source": [
    "tar_cols=df1.select_dtypes(include=\"object\")           \n",
    "tar_cols.drop('WHO region',axis=1,inplace=True)        #Seperate target columns\n",
    "for col in tar_cols:\n",
    "    df1[col]=df1[col].str.replace(r'\\[.*\\]',\"\")          #Replace Special Characters"
   ]
  },
  {
   "cell_type": "code",
   "execution_count": 19,
   "metadata": {},
   "outputs": [],
   "source": [
    "for col in tar_cols:\n",
    "    df1[col]=df1[col].str.replace(\" \",\"\")                         #Remove Whitespaces from target columns.\n",
    "    df1[col] = pd.to_numeric(df1[col], downcast=\"float\")          #Dtype conversion.\n",
    "df1.head()"
   ]
  },
  {
   "cell_type": "code",
   "execution_count": 20,
   "metadata": {
    "scrolled": true
   },
   "outputs": [
    {
     "name": "stdout",
     "output_type": "stream",
     "text": [
      "<class 'pandas.core.frame.DataFrame'>\n",
      "RangeIndex: 210 entries, 0 to 209\n",
      "Data columns (total 6 columns):\n",
      " #   Column                                              Non-Null Count  Dtype  \n",
      "---  ------                                              --------------  -----  \n",
      " 0   WHO region                                          210 non-null    object \n",
      " 1   Year                                                210 non-null    int64  \n",
      " 2   Number of new HIV infections                        210 non-null    float32\n",
      " 3   New HIV infections per1000 uninfected (Both Sexes)  210 non-null    float32\n",
      " 4   New HIV infections per 1000 uninfected (Male)       210 non-null    float32\n",
      " 5   New HIV infections per 1000 uninfected (Female)     210 non-null    float32\n",
      "dtypes: float32(4), int64(1), object(1)\n",
      "memory usage: 6.7+ KB\n"
     ]
    }
   ],
   "source": [
    "df1.info()"
   ]
  },
  {
   "cell_type": "code",
   "execution_count": 21,
   "metadata": {},
   "outputs": [],
   "source": [
    "df1.to_excel(r\"C:\\Users\\user\\Downloads\\HIV_Cleaned_2.xlsx\")     #Download cleaned Dataframe"
   ]
  },
  {
   "cell_type": "markdown",
   "metadata": {},
   "source": [
    "### 3rd Dataset"
   ]
  },
  {
   "cell_type": "code",
   "execution_count": 22,
   "metadata": {},
   "outputs": [
    {
     "data": {
      "text/html": [
       "<div>\n",
       "<style scoped>\n",
       "    .dataframe tbody tr th:only-of-type {\n",
       "        vertical-align: middle;\n",
       "    }\n",
       "\n",
       "    .dataframe tbody tr th {\n",
       "        vertical-align: top;\n",
       "    }\n",
       "\n",
       "    .dataframe thead th {\n",
       "        text-align: right;\n",
       "    }\n",
       "</style>\n",
       "<table border=\"1\" class=\"dataframe\">\n",
       "  <thead>\n",
       "    <tr style=\"text-align: right;\">\n",
       "      <th></th>\n",
       "      <th>WHO Region</th>\n",
       "      <th>Year</th>\n",
       "      <th>Total number of people having HIV</th>\n",
       "    </tr>\n",
       "  </thead>\n",
       "  <tbody>\n",
       "    <tr>\n",
       "      <th>0</th>\n",
       "      <td>Global</td>\n",
       "      <td>2019</td>\n",
       "      <td>38 000 000</td>\n",
       "    </tr>\n",
       "    <tr>\n",
       "      <th>1</th>\n",
       "      <td>Global</td>\n",
       "      <td>2018</td>\n",
       "      <td>37 300 000</td>\n",
       "    </tr>\n",
       "    <tr>\n",
       "      <th>2</th>\n",
       "      <td>Global</td>\n",
       "      <td>2017</td>\n",
       "      <td>36 500 000</td>\n",
       "    </tr>\n",
       "    <tr>\n",
       "      <th>3</th>\n",
       "      <td>Global</td>\n",
       "      <td>2016</td>\n",
       "      <td>35 700 000</td>\n",
       "    </tr>\n",
       "    <tr>\n",
       "      <th>4</th>\n",
       "      <td>Global</td>\n",
       "      <td>2015</td>\n",
       "      <td>34 900 000</td>\n",
       "    </tr>\n",
       "  </tbody>\n",
       "</table>\n",
       "</div>"
      ],
      "text/plain": [
       "  WHO Region  Year Total number of people having HIV\n",
       "0     Global  2019                       38 000 000 \n",
       "1     Global  2018                        37 300 000\n",
       "2     Global  2017                        36 500 000\n",
       "3     Global  2016                        35 700 000\n",
       "4     Global  2015                       34 900 000 "
      ]
     },
     "execution_count": 22,
     "metadata": {},
     "output_type": "execute_result"
    }
   ],
   "source": [
    "#Read Dataset File 3.\n",
    "df2=pd.read_excel(r\"C:\\Users\\user\\Downloads\\MKR\\HIV_3.xlsx\")\n",
    "df2.head()"
   ]
  },
  {
   "cell_type": "code",
   "execution_count": null,
   "metadata": {},
   "outputs": [],
   "source": [
    "df2.info()"
   ]
  },
  {
   "cell_type": "markdown",
   "metadata": {},
   "source": [
    "### Target column is \"Total number of people having HIV\""
   ]
  },
  {
   "cell_type": "code",
   "execution_count": null,
   "metadata": {},
   "outputs": [],
   "source": [
    "#Remove Whitespaces from target columns and then Dtype conversion.\n",
    "df2[\"Total number of people having HIV\"]=df2[\"Total number of people having HIV\"].str.replace(\" \",\"\")\n",
    "df2[\"Total number of people having HIV\"] = pd.to_numeric(df2[\"Total number of people having HIV\"], downcast=\"float\")\n",
    "df2.head()"
   ]
  },
  {
   "cell_type": "code",
   "execution_count": null,
   "metadata": {},
   "outputs": [],
   "source": [
    "df2.info()"
   ]
  },
  {
   "cell_type": "code",
   "execution_count": 24,
   "metadata": {},
   "outputs": [],
   "source": [
    "df2.to_excel(r\"C:\\Users\\user\\Downloads\\MKR\\HIV_Cleaned_3.xlsx\")     #Download cleaned Dataframe"
   ]
  },
  {
   "cell_type": "code",
   "execution_count": null,
   "metadata": {},
   "outputs": [],
   "source": []
  }
 ],
 "metadata": {
  "kernelspec": {
   "display_name": "Python 3",
   "language": "python",
   "name": "python3"
  },
  "language_info": {
   "codemirror_mode": {
    "name": "ipython",
    "version": 3
   },
   "file_extension": ".py",
   "mimetype": "text/x-python",
   "name": "python",
   "nbconvert_exporter": "python",
   "pygments_lexer": "ipython3",
   "version": "3.8.3"
  }
 },
 "nbformat": 4,
 "nbformat_minor": 4
}
